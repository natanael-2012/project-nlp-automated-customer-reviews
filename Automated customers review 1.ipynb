{
  "cells": [
    {
      "cell_type": "markdown",
      "source": [
        "# Automated Customers Review Project"
      ],
      "metadata": {
        "id": "j1vagsJjlWkr"
      }
    },
    {
      "cell_type": "markdown",
      "source": [
        "## Executive Summary\n",
        "\n",
        "This business case outlines the development of an NLP model to automate the processing of customer feedback for a retail company.\n",
        "\n",
        "The goal is to evaluate how a traditional ML solutions (NaiveBayes, SVM, RandomForest, etc) compares against a Deep Learning solution (e.g, a Transformer from HuggingFace) when trying to analyse a user review, in terms of its score (positive, negative or neutral).\n",
        "\n",
        "## Problem Statement\n",
        "\n",
        "The company receives thousands of text reviews every month, making it challenging to manually categorize and analyze, and visualize them. An automated system can save time, reduce costs, and provide real-time insights into customer sentiment.\n",
        "Automatically classyfing a review as positive, negative or neutral is important, as often:\n",
        "- Users don't leave a score, along with their review\n",
        "- Different users cannot be compared (for one user, a 4 might be great, for another user a 4 means \"not a 5\" and it is actually bad)\n",
        "\n",
        "## Project goals\n",
        "\n",
        "- The ML/AI system should be able to run classification of customers' reviews (the textual content of the reviews) into positive, neutral, or negative.\n",
        "- You should be able to compare which solution yeilds better results:\n",
        "  - One that reads the text with a Language Model and classifies into \"Positive\", \"Negative\" or \"Neutral\"\n",
        "  - One that transforms reviews into tabular data and classifies them using traditional Machine Learning techniques\n",
        "\n",
        "## Data Details\n",
        "The publicly available and downsized dataset of Amazon customer reviews from their online marketplace was used and can be found [here](https://www.kaggle.com/datasets/datafiniti/consumer-reviews-of-amazon-products/data)\n",
        "\n",
        "In order to do this, you should transform all the scores with the following logic:\n",
        "- Scores of 1,2 or 3: Negative\n",
        "- Scores of 4: Neutral\n",
        "- Scores of 5: Positive"
      ],
      "metadata": {
        "id": "NNePvW0ilczR"
      }
    },
    {
      "cell_type": "markdown",
      "source": [
        "<hr/>\n",
        "\n",
        "## Part 1: Traditional NLP & ML approach"
      ],
      "metadata": {
        "id": "o23ktFgAlxMq"
      }
    },
    {
      "cell_type": "markdown",
      "source": [
        "### Data Preprocessing"
      ],
      "metadata": {
        "id": "Cw7XR4xsm0Cw"
      }
    },
    {
      "cell_type": "markdown",
      "source": [
        "#### Data Cleaning\n",
        "\n",
        "We begin by downloading the dataset from Kaggle, putting it in a dataframe, and then exploring the data"
      ],
      "metadata": {
        "id": "y6sRfjRVm6rJ"
      }
    },
    {
      "cell_type": "code",
      "source": [
        "import kagglehub\n",
        "from pathlib import Path\n",
        "import os\n",
        "\n",
        "try:\n",
        "  path0\n",
        "except:\n",
        "  # Download latest version\n",
        "  path0 = kagglehub.dataset_download(\"datafiniti/consumer-reviews-of-amazon-products\")\n",
        "\n",
        "print(\"Path to dataset files:\", path0)\n",
        "path = os.path.join(path0, '1429_1.csv')\n",
        "\n",
        "print(\"Path to csv:\", path)"
      ],
      "metadata": {
        "colab": {
          "base_uri": "https://localhost:8080/"
        },
        "id": "gNlMR5_uq1Z_",
        "outputId": "87c9e199-2a81-416a-8e69-a5a0688090b8"
      },
      "execution_count": 1,
      "outputs": [
        {
          "output_type": "stream",
          "name": "stdout",
          "text": [
            "Downloading from https://www.kaggle.com/api/v1/datasets/download/datafiniti/consumer-reviews-of-amazon-products?dataset_version_number=5...\n"
          ]
        },
        {
          "output_type": "stream",
          "name": "stderr",
          "text": [
            "100%|██████████| 16.3M/16.3M [00:00<00:00, 52.7MB/s]"
          ]
        },
        {
          "output_type": "stream",
          "name": "stdout",
          "text": [
            "Extracting files...\n"
          ]
        },
        {
          "output_type": "stream",
          "name": "stderr",
          "text": [
            "\n"
          ]
        },
        {
          "output_type": "stream",
          "name": "stdout",
          "text": [
            "Path to dataset files: /root/.cache/kagglehub/datasets/datafiniti/consumer-reviews-of-amazon-products/versions/5\n",
            "Path to csv: /root/.cache/kagglehub/datasets/datafiniti/consumer-reviews-of-amazon-products/versions/5/1429_1.csv\n"
          ]
        }
      ]
    },
    {
      "cell_type": "code",
      "source": [
        "import pandas as pd\n",
        "import numpy as np\n",
        "import matplotlib.pyplot as plt\n",
        "import seaborn as sns\n",
        "\n",
        "df = pd.read_csv(path, low_memory=False)\n",
        "df.head()"
      ],
      "metadata": {
        "colab": {
          "base_uri": "https://localhost:8080/",
          "height": 863
        },
        "id": "7HvVuWl-uc9F",
        "outputId": "2c2504a7-d155-480f-8c44-6d0c9fad7703"
      },
      "execution_count": 2,
      "outputs": [
        {
          "output_type": "execute_result",
          "data": {
            "text/plain": [
              "                     id                                               name  \\\n",
              "0  AVqkIhwDv8e3D1O-lebb  All-New Fire HD 8 Tablet, 8 HD Display, Wi-Fi,...   \n",
              "1  AVqkIhwDv8e3D1O-lebb  All-New Fire HD 8 Tablet, 8 HD Display, Wi-Fi,...   \n",
              "2  AVqkIhwDv8e3D1O-lebb  All-New Fire HD 8 Tablet, 8 HD Display, Wi-Fi,...   \n",
              "3  AVqkIhwDv8e3D1O-lebb  All-New Fire HD 8 Tablet, 8 HD Display, Wi-Fi,...   \n",
              "4  AVqkIhwDv8e3D1O-lebb  All-New Fire HD 8 Tablet, 8 HD Display, Wi-Fi,...   \n",
              "\n",
              "        asins   brand                                         categories  \\\n",
              "0  B01AHB9CN2  Amazon  Electronics,iPad & Tablets,All Tablets,Fire Ta...   \n",
              "1  B01AHB9CN2  Amazon  Electronics,iPad & Tablets,All Tablets,Fire Ta...   \n",
              "2  B01AHB9CN2  Amazon  Electronics,iPad & Tablets,All Tablets,Fire Ta...   \n",
              "3  B01AHB9CN2  Amazon  Electronics,iPad & Tablets,All Tablets,Fire Ta...   \n",
              "4  B01AHB9CN2  Amazon  Electronics,iPad & Tablets,All Tablets,Fire Ta...   \n",
              "\n",
              "                                                keys manufacturer  \\\n",
              "0  841667104676,amazon/53004484,amazon/b01ahb9cn2...       Amazon   \n",
              "1  841667104676,amazon/53004484,amazon/b01ahb9cn2...       Amazon   \n",
              "2  841667104676,amazon/53004484,amazon/b01ahb9cn2...       Amazon   \n",
              "3  841667104676,amazon/53004484,amazon/b01ahb9cn2...       Amazon   \n",
              "4  841667104676,amazon/53004484,amazon/b01ahb9cn2...       Amazon   \n",
              "\n",
              "               reviews.date     reviews.dateAdded  \\\n",
              "0  2017-01-13T00:00:00.000Z  2017-07-03T23:33:15Z   \n",
              "1  2017-01-13T00:00:00.000Z  2017-07-03T23:33:15Z   \n",
              "2  2017-01-13T00:00:00.000Z  2017-07-03T23:33:15Z   \n",
              "3  2017-01-13T00:00:00.000Z  2017-07-03T23:33:15Z   \n",
              "4  2017-01-12T00:00:00.000Z  2017-07-03T23:33:15Z   \n",
              "\n",
              "                                    reviews.dateSeen  ... reviews.doRecommend  \\\n",
              "0  2017-06-07T09:04:00.000Z,2017-04-30T00:45:00.000Z  ...                True   \n",
              "1  2017-06-07T09:04:00.000Z,2017-04-30T00:45:00.000Z  ...                True   \n",
              "2  2017-06-07T09:04:00.000Z,2017-04-30T00:45:00.000Z  ...                True   \n",
              "3  2017-06-07T09:04:00.000Z,2017-04-30T00:45:00.000Z  ...                True   \n",
              "4  2017-06-07T09:04:00.000Z,2017-04-30T00:45:00.000Z  ...                True   \n",
              "\n",
              "  reviews.id  reviews.numHelpful  reviews.rating  \\\n",
              "0        NaN                 0.0             5.0   \n",
              "1        NaN                 0.0             5.0   \n",
              "2        NaN                 0.0             5.0   \n",
              "3        NaN                 0.0             4.0   \n",
              "4        NaN                 0.0             5.0   \n",
              "\n",
              "                                  reviews.sourceURLs  \\\n",
              "0  http://reviews.bestbuy.com/3545/5620406/review...   \n",
              "1  http://reviews.bestbuy.com/3545/5620406/review...   \n",
              "2  http://reviews.bestbuy.com/3545/5620406/review...   \n",
              "3  http://reviews.bestbuy.com/3545/5620406/review...   \n",
              "4  http://reviews.bestbuy.com/3545/5620406/review...   \n",
              "\n",
              "                                        reviews.text  \\\n",
              "0  This product so far has not disappointed. My c...   \n",
              "1  great for beginner or experienced person. Boug...   \n",
              "2  Inexpensive tablet for him to use and learn on...   \n",
              "3  I've had my Fire HD 8 two weeks now and I love...   \n",
              "4  I bought this for my grand daughter when she c...   \n",
              "\n",
              "                             reviews.title reviews.userCity  \\\n",
              "0                                   Kindle              NaN   \n",
              "1                                very fast              NaN   \n",
              "2  Beginner tablet for our 9 year old son.              NaN   \n",
              "3                                  Good!!!              NaN   \n",
              "4                Fantastic Tablet for kids              NaN   \n",
              "\n",
              "   reviews.userProvince  reviews.username  \n",
              "0                   NaN           Adapter  \n",
              "1                   NaN            truman  \n",
              "2                   NaN             DaveZ  \n",
              "3                   NaN            Shacks  \n",
              "4                   NaN         explore42  \n",
              "\n",
              "[5 rows x 21 columns]"
            ],
            "text/html": [
              "\n",
              "  <div id=\"df-f7741174-16fd-4ef5-858c-524dd50488f9\" class=\"colab-df-container\">\n",
              "    <div>\n",
              "<style scoped>\n",
              "    .dataframe tbody tr th:only-of-type {\n",
              "        vertical-align: middle;\n",
              "    }\n",
              "\n",
              "    .dataframe tbody tr th {\n",
              "        vertical-align: top;\n",
              "    }\n",
              "\n",
              "    .dataframe thead th {\n",
              "        text-align: right;\n",
              "    }\n",
              "</style>\n",
              "<table border=\"1\" class=\"dataframe\">\n",
              "  <thead>\n",
              "    <tr style=\"text-align: right;\">\n",
              "      <th></th>\n",
              "      <th>id</th>\n",
              "      <th>name</th>\n",
              "      <th>asins</th>\n",
              "      <th>brand</th>\n",
              "      <th>categories</th>\n",
              "      <th>keys</th>\n",
              "      <th>manufacturer</th>\n",
              "      <th>reviews.date</th>\n",
              "      <th>reviews.dateAdded</th>\n",
              "      <th>reviews.dateSeen</th>\n",
              "      <th>...</th>\n",
              "      <th>reviews.doRecommend</th>\n",
              "      <th>reviews.id</th>\n",
              "      <th>reviews.numHelpful</th>\n",
              "      <th>reviews.rating</th>\n",
              "      <th>reviews.sourceURLs</th>\n",
              "      <th>reviews.text</th>\n",
              "      <th>reviews.title</th>\n",
              "      <th>reviews.userCity</th>\n",
              "      <th>reviews.userProvince</th>\n",
              "      <th>reviews.username</th>\n",
              "    </tr>\n",
              "  </thead>\n",
              "  <tbody>\n",
              "    <tr>\n",
              "      <th>0</th>\n",
              "      <td>AVqkIhwDv8e3D1O-lebb</td>\n",
              "      <td>All-New Fire HD 8 Tablet, 8 HD Display, Wi-Fi,...</td>\n",
              "      <td>B01AHB9CN2</td>\n",
              "      <td>Amazon</td>\n",
              "      <td>Electronics,iPad &amp; Tablets,All Tablets,Fire Ta...</td>\n",
              "      <td>841667104676,amazon/53004484,amazon/b01ahb9cn2...</td>\n",
              "      <td>Amazon</td>\n",
              "      <td>2017-01-13T00:00:00.000Z</td>\n",
              "      <td>2017-07-03T23:33:15Z</td>\n",
              "      <td>2017-06-07T09:04:00.000Z,2017-04-30T00:45:00.000Z</td>\n",
              "      <td>...</td>\n",
              "      <td>True</td>\n",
              "      <td>NaN</td>\n",
              "      <td>0.0</td>\n",
              "      <td>5.0</td>\n",
              "      <td>http://reviews.bestbuy.com/3545/5620406/review...</td>\n",
              "      <td>This product so far has not disappointed. My c...</td>\n",
              "      <td>Kindle</td>\n",
              "      <td>NaN</td>\n",
              "      <td>NaN</td>\n",
              "      <td>Adapter</td>\n",
              "    </tr>\n",
              "    <tr>\n",
              "      <th>1</th>\n",
              "      <td>AVqkIhwDv8e3D1O-lebb</td>\n",
              "      <td>All-New Fire HD 8 Tablet, 8 HD Display, Wi-Fi,...</td>\n",
              "      <td>B01AHB9CN2</td>\n",
              "      <td>Amazon</td>\n",
              "      <td>Electronics,iPad &amp; Tablets,All Tablets,Fire Ta...</td>\n",
              "      <td>841667104676,amazon/53004484,amazon/b01ahb9cn2...</td>\n",
              "      <td>Amazon</td>\n",
              "      <td>2017-01-13T00:00:00.000Z</td>\n",
              "      <td>2017-07-03T23:33:15Z</td>\n",
              "      <td>2017-06-07T09:04:00.000Z,2017-04-30T00:45:00.000Z</td>\n",
              "      <td>...</td>\n",
              "      <td>True</td>\n",
              "      <td>NaN</td>\n",
              "      <td>0.0</td>\n",
              "      <td>5.0</td>\n",
              "      <td>http://reviews.bestbuy.com/3545/5620406/review...</td>\n",
              "      <td>great for beginner or experienced person. Boug...</td>\n",
              "      <td>very fast</td>\n",
              "      <td>NaN</td>\n",
              "      <td>NaN</td>\n",
              "      <td>truman</td>\n",
              "    </tr>\n",
              "    <tr>\n",
              "      <th>2</th>\n",
              "      <td>AVqkIhwDv8e3D1O-lebb</td>\n",
              "      <td>All-New Fire HD 8 Tablet, 8 HD Display, Wi-Fi,...</td>\n",
              "      <td>B01AHB9CN2</td>\n",
              "      <td>Amazon</td>\n",
              "      <td>Electronics,iPad &amp; Tablets,All Tablets,Fire Ta...</td>\n",
              "      <td>841667104676,amazon/53004484,amazon/b01ahb9cn2...</td>\n",
              "      <td>Amazon</td>\n",
              "      <td>2017-01-13T00:00:00.000Z</td>\n",
              "      <td>2017-07-03T23:33:15Z</td>\n",
              "      <td>2017-06-07T09:04:00.000Z,2017-04-30T00:45:00.000Z</td>\n",
              "      <td>...</td>\n",
              "      <td>True</td>\n",
              "      <td>NaN</td>\n",
              "      <td>0.0</td>\n",
              "      <td>5.0</td>\n",
              "      <td>http://reviews.bestbuy.com/3545/5620406/review...</td>\n",
              "      <td>Inexpensive tablet for him to use and learn on...</td>\n",
              "      <td>Beginner tablet for our 9 year old son.</td>\n",
              "      <td>NaN</td>\n",
              "      <td>NaN</td>\n",
              "      <td>DaveZ</td>\n",
              "    </tr>\n",
              "    <tr>\n",
              "      <th>3</th>\n",
              "      <td>AVqkIhwDv8e3D1O-lebb</td>\n",
              "      <td>All-New Fire HD 8 Tablet, 8 HD Display, Wi-Fi,...</td>\n",
              "      <td>B01AHB9CN2</td>\n",
              "      <td>Amazon</td>\n",
              "      <td>Electronics,iPad &amp; Tablets,All Tablets,Fire Ta...</td>\n",
              "      <td>841667104676,amazon/53004484,amazon/b01ahb9cn2...</td>\n",
              "      <td>Amazon</td>\n",
              "      <td>2017-01-13T00:00:00.000Z</td>\n",
              "      <td>2017-07-03T23:33:15Z</td>\n",
              "      <td>2017-06-07T09:04:00.000Z,2017-04-30T00:45:00.000Z</td>\n",
              "      <td>...</td>\n",
              "      <td>True</td>\n",
              "      <td>NaN</td>\n",
              "      <td>0.0</td>\n",
              "      <td>4.0</td>\n",
              "      <td>http://reviews.bestbuy.com/3545/5620406/review...</td>\n",
              "      <td>I've had my Fire HD 8 two weeks now and I love...</td>\n",
              "      <td>Good!!!</td>\n",
              "      <td>NaN</td>\n",
              "      <td>NaN</td>\n",
              "      <td>Shacks</td>\n",
              "    </tr>\n",
              "    <tr>\n",
              "      <th>4</th>\n",
              "      <td>AVqkIhwDv8e3D1O-lebb</td>\n",
              "      <td>All-New Fire HD 8 Tablet, 8 HD Display, Wi-Fi,...</td>\n",
              "      <td>B01AHB9CN2</td>\n",
              "      <td>Amazon</td>\n",
              "      <td>Electronics,iPad &amp; Tablets,All Tablets,Fire Ta...</td>\n",
              "      <td>841667104676,amazon/53004484,amazon/b01ahb9cn2...</td>\n",
              "      <td>Amazon</td>\n",
              "      <td>2017-01-12T00:00:00.000Z</td>\n",
              "      <td>2017-07-03T23:33:15Z</td>\n",
              "      <td>2017-06-07T09:04:00.000Z,2017-04-30T00:45:00.000Z</td>\n",
              "      <td>...</td>\n",
              "      <td>True</td>\n",
              "      <td>NaN</td>\n",
              "      <td>0.0</td>\n",
              "      <td>5.0</td>\n",
              "      <td>http://reviews.bestbuy.com/3545/5620406/review...</td>\n",
              "      <td>I bought this for my grand daughter when she c...</td>\n",
              "      <td>Fantastic Tablet for kids</td>\n",
              "      <td>NaN</td>\n",
              "      <td>NaN</td>\n",
              "      <td>explore42</td>\n",
              "    </tr>\n",
              "  </tbody>\n",
              "</table>\n",
              "<p>5 rows × 21 columns</p>\n",
              "</div>\n",
              "    <div class=\"colab-df-buttons\">\n",
              "\n",
              "  <div class=\"colab-df-container\">\n",
              "    <button class=\"colab-df-convert\" onclick=\"convertToInteractive('df-f7741174-16fd-4ef5-858c-524dd50488f9')\"\n",
              "            title=\"Convert this dataframe to an interactive table.\"\n",
              "            style=\"display:none;\">\n",
              "\n",
              "  <svg xmlns=\"http://www.w3.org/2000/svg\" height=\"24px\" viewBox=\"0 -960 960 960\">\n",
              "    <path d=\"M120-120v-720h720v720H120Zm60-500h600v-160H180v160Zm220 220h160v-160H400v160Zm0 220h160v-160H400v160ZM180-400h160v-160H180v160Zm440 0h160v-160H620v160ZM180-180h160v-160H180v160Zm440 0h160v-160H620v160Z\"/>\n",
              "  </svg>\n",
              "    </button>\n",
              "\n",
              "  <style>\n",
              "    .colab-df-container {\n",
              "      display:flex;\n",
              "      gap: 12px;\n",
              "    }\n",
              "\n",
              "    .colab-df-convert {\n",
              "      background-color: #E8F0FE;\n",
              "      border: none;\n",
              "      border-radius: 50%;\n",
              "      cursor: pointer;\n",
              "      display: none;\n",
              "      fill: #1967D2;\n",
              "      height: 32px;\n",
              "      padding: 0 0 0 0;\n",
              "      width: 32px;\n",
              "    }\n",
              "\n",
              "    .colab-df-convert:hover {\n",
              "      background-color: #E2EBFA;\n",
              "      box-shadow: 0px 1px 2px rgba(60, 64, 67, 0.3), 0px 1px 3px 1px rgba(60, 64, 67, 0.15);\n",
              "      fill: #174EA6;\n",
              "    }\n",
              "\n",
              "    .colab-df-buttons div {\n",
              "      margin-bottom: 4px;\n",
              "    }\n",
              "\n",
              "    [theme=dark] .colab-df-convert {\n",
              "      background-color: #3B4455;\n",
              "      fill: #D2E3FC;\n",
              "    }\n",
              "\n",
              "    [theme=dark] .colab-df-convert:hover {\n",
              "      background-color: #434B5C;\n",
              "      box-shadow: 0px 1px 3px 1px rgba(0, 0, 0, 0.15);\n",
              "      filter: drop-shadow(0px 1px 2px rgba(0, 0, 0, 0.3));\n",
              "      fill: #FFFFFF;\n",
              "    }\n",
              "  </style>\n",
              "\n",
              "    <script>\n",
              "      const buttonEl =\n",
              "        document.querySelector('#df-f7741174-16fd-4ef5-858c-524dd50488f9 button.colab-df-convert');\n",
              "      buttonEl.style.display =\n",
              "        google.colab.kernel.accessAllowed ? 'block' : 'none';\n",
              "\n",
              "      async function convertToInteractive(key) {\n",
              "        const element = document.querySelector('#df-f7741174-16fd-4ef5-858c-524dd50488f9');\n",
              "        const dataTable =\n",
              "          await google.colab.kernel.invokeFunction('convertToInteractive',\n",
              "                                                    [key], {});\n",
              "        if (!dataTable) return;\n",
              "\n",
              "        const docLinkHtml = 'Like what you see? Visit the ' +\n",
              "          '<a target=\"_blank\" href=https://colab.research.google.com/notebooks/data_table.ipynb>data table notebook</a>'\n",
              "          + ' to learn more about interactive tables.';\n",
              "        element.innerHTML = '';\n",
              "        dataTable['output_type'] = 'display_data';\n",
              "        await google.colab.output.renderOutput(dataTable, element);\n",
              "        const docLink = document.createElement('div');\n",
              "        docLink.innerHTML = docLinkHtml;\n",
              "        element.appendChild(docLink);\n",
              "      }\n",
              "    </script>\n",
              "  </div>\n",
              "\n",
              "\n",
              "<div id=\"df-f871e8f8-5600-4462-b7d3-05d1311b60bd\">\n",
              "  <button class=\"colab-df-quickchart\" onclick=\"quickchart('df-f871e8f8-5600-4462-b7d3-05d1311b60bd')\"\n",
              "            title=\"Suggest charts\"\n",
              "            style=\"display:none;\">\n",
              "\n",
              "<svg xmlns=\"http://www.w3.org/2000/svg\" height=\"24px\"viewBox=\"0 0 24 24\"\n",
              "     width=\"24px\">\n",
              "    <g>\n",
              "        <path d=\"M19 3H5c-1.1 0-2 .9-2 2v14c0 1.1.9 2 2 2h14c1.1 0 2-.9 2-2V5c0-1.1-.9-2-2-2zM9 17H7v-7h2v7zm4 0h-2V7h2v10zm4 0h-2v-4h2v4z\"/>\n",
              "    </g>\n",
              "</svg>\n",
              "  </button>\n",
              "\n",
              "<style>\n",
              "  .colab-df-quickchart {\n",
              "      --bg-color: #E8F0FE;\n",
              "      --fill-color: #1967D2;\n",
              "      --hover-bg-color: #E2EBFA;\n",
              "      --hover-fill-color: #174EA6;\n",
              "      --disabled-fill-color: #AAA;\n",
              "      --disabled-bg-color: #DDD;\n",
              "  }\n",
              "\n",
              "  [theme=dark] .colab-df-quickchart {\n",
              "      --bg-color: #3B4455;\n",
              "      --fill-color: #D2E3FC;\n",
              "      --hover-bg-color: #434B5C;\n",
              "      --hover-fill-color: #FFFFFF;\n",
              "      --disabled-bg-color: #3B4455;\n",
              "      --disabled-fill-color: #666;\n",
              "  }\n",
              "\n",
              "  .colab-df-quickchart {\n",
              "    background-color: var(--bg-color);\n",
              "    border: none;\n",
              "    border-radius: 50%;\n",
              "    cursor: pointer;\n",
              "    display: none;\n",
              "    fill: var(--fill-color);\n",
              "    height: 32px;\n",
              "    padding: 0;\n",
              "    width: 32px;\n",
              "  }\n",
              "\n",
              "  .colab-df-quickchart:hover {\n",
              "    background-color: var(--hover-bg-color);\n",
              "    box-shadow: 0 1px 2px rgba(60, 64, 67, 0.3), 0 1px 3px 1px rgba(60, 64, 67, 0.15);\n",
              "    fill: var(--button-hover-fill-color);\n",
              "  }\n",
              "\n",
              "  .colab-df-quickchart-complete:disabled,\n",
              "  .colab-df-quickchart-complete:disabled:hover {\n",
              "    background-color: var(--disabled-bg-color);\n",
              "    fill: var(--disabled-fill-color);\n",
              "    box-shadow: none;\n",
              "  }\n",
              "\n",
              "  .colab-df-spinner {\n",
              "    border: 2px solid var(--fill-color);\n",
              "    border-color: transparent;\n",
              "    border-bottom-color: var(--fill-color);\n",
              "    animation:\n",
              "      spin 1s steps(1) infinite;\n",
              "  }\n",
              "\n",
              "  @keyframes spin {\n",
              "    0% {\n",
              "      border-color: transparent;\n",
              "      border-bottom-color: var(--fill-color);\n",
              "      border-left-color: var(--fill-color);\n",
              "    }\n",
              "    20% {\n",
              "      border-color: transparent;\n",
              "      border-left-color: var(--fill-color);\n",
              "      border-top-color: var(--fill-color);\n",
              "    }\n",
              "    30% {\n",
              "      border-color: transparent;\n",
              "      border-left-color: var(--fill-color);\n",
              "      border-top-color: var(--fill-color);\n",
              "      border-right-color: var(--fill-color);\n",
              "    }\n",
              "    40% {\n",
              "      border-color: transparent;\n",
              "      border-right-color: var(--fill-color);\n",
              "      border-top-color: var(--fill-color);\n",
              "    }\n",
              "    60% {\n",
              "      border-color: transparent;\n",
              "      border-right-color: var(--fill-color);\n",
              "    }\n",
              "    80% {\n",
              "      border-color: transparent;\n",
              "      border-right-color: var(--fill-color);\n",
              "      border-bottom-color: var(--fill-color);\n",
              "    }\n",
              "    90% {\n",
              "      border-color: transparent;\n",
              "      border-bottom-color: var(--fill-color);\n",
              "    }\n",
              "  }\n",
              "</style>\n",
              "\n",
              "  <script>\n",
              "    async function quickchart(key) {\n",
              "      const quickchartButtonEl =\n",
              "        document.querySelector('#' + key + ' button');\n",
              "      quickchartButtonEl.disabled = true;  // To prevent multiple clicks.\n",
              "      quickchartButtonEl.classList.add('colab-df-spinner');\n",
              "      try {\n",
              "        const charts = await google.colab.kernel.invokeFunction(\n",
              "            'suggestCharts', [key], {});\n",
              "      } catch (error) {\n",
              "        console.error('Error during call to suggestCharts:', error);\n",
              "      }\n",
              "      quickchartButtonEl.classList.remove('colab-df-spinner');\n",
              "      quickchartButtonEl.classList.add('colab-df-quickchart-complete');\n",
              "    }\n",
              "    (() => {\n",
              "      let quickchartButtonEl =\n",
              "        document.querySelector('#df-f871e8f8-5600-4462-b7d3-05d1311b60bd button');\n",
              "      quickchartButtonEl.style.display =\n",
              "        google.colab.kernel.accessAllowed ? 'block' : 'none';\n",
              "    })();\n",
              "  </script>\n",
              "</div>\n",
              "\n",
              "    </div>\n",
              "  </div>\n"
            ],
            "application/vnd.google.colaboratory.intrinsic+json": {
              "type": "dataframe",
              "variable_name": "df"
            }
          },
          "metadata": {},
          "execution_count": 2
        }
      ]
    },
    {
      "cell_type": "code",
      "source": [
        "display(df.info())\n",
        "print()\n",
        "\n",
        "null_counts = df.isnull().sum()\n",
        "\n",
        "# Print the null counts for each column\n",
        "for column, count in null_counts.items():\n",
        "    if count > 0:  # Only print columns that have nulls\n",
        "        print(f\"{column:<20} has {count:<7} null values.\")"
      ],
      "metadata": {
        "colab": {
          "base_uri": "https://localhost:8080/",
          "height": 816
        },
        "id": "hXJugvvsu9ZO",
        "outputId": "51349951-b88b-4407-d9ca-1d1f74e304bb"
      },
      "execution_count": 3,
      "outputs": [
        {
          "output_type": "stream",
          "name": "stdout",
          "text": [
            "<class 'pandas.core.frame.DataFrame'>\n",
            "RangeIndex: 34660 entries, 0 to 34659\n",
            "Data columns (total 21 columns):\n",
            " #   Column                Non-Null Count  Dtype  \n",
            "---  ------                --------------  -----  \n",
            " 0   id                    34660 non-null  object \n",
            " 1   name                  27900 non-null  object \n",
            " 2   asins                 34658 non-null  object \n",
            " 3   brand                 34660 non-null  object \n",
            " 4   categories            34660 non-null  object \n",
            " 5   keys                  34660 non-null  object \n",
            " 6   manufacturer          34660 non-null  object \n",
            " 7   reviews.date          34621 non-null  object \n",
            " 8   reviews.dateAdded     24039 non-null  object \n",
            " 9   reviews.dateSeen      34660 non-null  object \n",
            " 10  reviews.didPurchase   1 non-null      object \n",
            " 11  reviews.doRecommend   34066 non-null  object \n",
            " 12  reviews.id            1 non-null      float64\n",
            " 13  reviews.numHelpful    34131 non-null  float64\n",
            " 14  reviews.rating        34627 non-null  float64\n",
            " 15  reviews.sourceURLs    34660 non-null  object \n",
            " 16  reviews.text          34659 non-null  object \n",
            " 17  reviews.title         34654 non-null  object \n",
            " 18  reviews.userCity      0 non-null      float64\n",
            " 19  reviews.userProvince  0 non-null      float64\n",
            " 20  reviews.username      34653 non-null  object \n",
            "dtypes: float64(5), object(16)\n",
            "memory usage: 5.6+ MB\n"
          ]
        },
        {
          "output_type": "display_data",
          "data": {
            "text/plain": [
              "None"
            ]
          },
          "metadata": {}
        },
        {
          "output_type": "stream",
          "name": "stdout",
          "text": [
            "\n",
            "name                 has 6760    null values.\n",
            "asins                has 2       null values.\n",
            "reviews.date         has 39      null values.\n",
            "reviews.dateAdded    has 10621   null values.\n",
            "reviews.didPurchase  has 34659   null values.\n",
            "reviews.doRecommend  has 594     null values.\n",
            "reviews.id           has 34659   null values.\n",
            "reviews.numHelpful   has 529     null values.\n",
            "reviews.rating       has 33      null values.\n",
            "reviews.text         has 1       null values.\n",
            "reviews.title        has 6       null values.\n",
            "reviews.userCity     has 34660   null values.\n",
            "reviews.userProvince has 34660   null values.\n",
            "reviews.username     has 7       null values.\n"
          ]
        }
      ]
    },
    {
      "cell_type": "markdown",
      "source": [
        "We observe that there are many columns with null values. We will begin by removing the ones that are mostly null. Then we will decide what to do with the others"
      ],
      "metadata": {
        "id": "u3_zDheCvXo7"
      }
    },
    {
      "cell_type": "code",
      "source": [
        "# remove columns with more that 30000 missing values\n",
        "df = df.dropna(thresh=df.shape[0]*0.5, axis=1)\n",
        "df.info()\n",
        "print()\n",
        "null_counts = df.isnull().sum()\n",
        "\n",
        "# Print the null counts for each column\n",
        "for column, count in null_counts.items():\n",
        "    if count > 0:  # Only print columns that have nulls\n",
        "        print(f\"{column:<20} has {count:<7} null values.\")"
      ],
      "metadata": {
        "colab": {
          "base_uri": "https://localhost:8080/"
        },
        "id": "fP4887zyyB9C",
        "outputId": "63206a79-c931-43eb-db16-31e51482710f"
      },
      "execution_count": 4,
      "outputs": [
        {
          "output_type": "stream",
          "name": "stdout",
          "text": [
            "<class 'pandas.core.frame.DataFrame'>\n",
            "RangeIndex: 34660 entries, 0 to 34659\n",
            "Data columns (total 17 columns):\n",
            " #   Column               Non-Null Count  Dtype  \n",
            "---  ------               --------------  -----  \n",
            " 0   id                   34660 non-null  object \n",
            " 1   name                 27900 non-null  object \n",
            " 2   asins                34658 non-null  object \n",
            " 3   brand                34660 non-null  object \n",
            " 4   categories           34660 non-null  object \n",
            " 5   keys                 34660 non-null  object \n",
            " 6   manufacturer         34660 non-null  object \n",
            " 7   reviews.date         34621 non-null  object \n",
            " 8   reviews.dateAdded    24039 non-null  object \n",
            " 9   reviews.dateSeen     34660 non-null  object \n",
            " 10  reviews.doRecommend  34066 non-null  object \n",
            " 11  reviews.numHelpful   34131 non-null  float64\n",
            " 12  reviews.rating       34627 non-null  float64\n",
            " 13  reviews.sourceURLs   34660 non-null  object \n",
            " 14  reviews.text         34659 non-null  object \n",
            " 15  reviews.title        34654 non-null  object \n",
            " 16  reviews.username     34653 non-null  object \n",
            "dtypes: float64(2), object(15)\n",
            "memory usage: 4.5+ MB\n",
            "\n",
            "name                 has 6760    null values.\n",
            "asins                has 2       null values.\n",
            "reviews.date         has 39      null values.\n",
            "reviews.dateAdded    has 10621   null values.\n",
            "reviews.doRecommend  has 594     null values.\n",
            "reviews.numHelpful   has 529     null values.\n",
            "reviews.rating       has 33      null values.\n",
            "reviews.text         has 1       null values.\n",
            "reviews.title        has 6       null values.\n",
            "reviews.username     has 7       null values.\n"
          ]
        }
      ]
    },
    {
      "cell_type": "markdown",
      "source": [
        "Since we will be dealing with the reviews, we will drop the rest of the columns and just leave the title, text, and rating. Then we will merge the title and the text, and transform the ratings to just three values: negative (1-3), neutral (4), or positive (5). Since we need the labels for at least the training, we will also remove the rows without labels (just 33 reviews)."
      ],
      "metadata": {
        "id": "zrHX2Thv5YNk"
      }
    },
    {
      "cell_type": "code",
      "source": [
        "# select only the columns that are useful for the analysis (title, reviews, and ratings). also drop the rows with missing ratings\n",
        "reviews = df[['reviews.text', 'reviews.title', 'reviews.rating']]\n",
        "reviews = reviews.dropna(subset=['reviews.rating'])\n",
        "reviews.info()"
      ],
      "metadata": {
        "colab": {
          "base_uri": "https://localhost:8080/"
        },
        "id": "nJ_gawvm6heZ",
        "outputId": "24f23c56-f60a-4e93-f1ff-a15c99405efa"
      },
      "execution_count": 3,
      "outputs": [
        {
          "output_type": "stream",
          "name": "stdout",
          "text": [
            "<class 'pandas.core.frame.DataFrame'>\n",
            "Index: 34627 entries, 0 to 34659\n",
            "Data columns (total 3 columns):\n",
            " #   Column          Non-Null Count  Dtype  \n",
            "---  ------          --------------  -----  \n",
            " 0   reviews.text    34626 non-null  object \n",
            " 1   reviews.title   34621 non-null  object \n",
            " 2   reviews.rating  34627 non-null  float64\n",
            "dtypes: float64(1), object(2)\n",
            "memory usage: 1.1+ MB\n"
          ]
        }
      ]
    },
    {
      "cell_type": "code",
      "source": [
        "#Now we merge the titles with the text of the reviews\n",
        "reviews['text'] = '(' + reviews['reviews.title'] + ') ' + reviews['reviews.text']\n",
        "\n",
        "# and map ratings to negative (1-3), neutral (4), and positive (5), they are floats...\n",
        "reviews['rating'] = reviews['reviews.rating'].map({1.0: 'negative', 2.0: 'negative', 3.0: 'negative', 4.0: 'neutral', 5.0: 'positive'})\n",
        "\n",
        "# drop the other columns\n",
        "reviews = reviews[['text', 'rating']]\n",
        "\n",
        "# and drop rows where text is missing\n",
        "reviews = reviews.dropna(subset=['text'])\n",
        "\n",
        "reviews.info()"
      ],
      "metadata": {
        "colab": {
          "base_uri": "https://localhost:8080/"
        },
        "id": "P-oNO1Vq7a1M",
        "outputId": "19a15738-521f-4109-f3a0-c898b622c8e8"
      },
      "execution_count": 4,
      "outputs": [
        {
          "output_type": "stream",
          "name": "stdout",
          "text": [
            "<class 'pandas.core.frame.DataFrame'>\n",
            "Index: 34620 entries, 0 to 34659\n",
            "Data columns (total 2 columns):\n",
            " #   Column  Non-Null Count  Dtype \n",
            "---  ------  --------------  ----- \n",
            " 0   text    34620 non-null  object\n",
            " 1   rating  34620 non-null  object\n",
            "dtypes: object(2)\n",
            "memory usage: 811.4+ KB\n"
          ]
        }
      ]
    },
    {
      "cell_type": "markdown",
      "source": [
        "##### Fixing text\n",
        "For traditional NLP and ML models, we need to propperly clean the text. We will:\n",
        "- Remove special characters, punctuation, and unnecessary whitespace from the text data.\n",
        "- Convert text to lowercase to ensure consistency in word representations."
      ],
      "metadata": {
        "id": "dl1RD4--9n_R"
      }
    },
    {
      "cell_type": "code",
      "source": [
        "import re\n",
        "from bs4 import BeautifulSoup\n",
        "def clean_text(text):\n",
        "    # Step 1: Remove inline JavaScript/CSS\n",
        "    text = re.sub(r'<(script|style).*?>.*?</\\1>', '', text, flags=re.DOTALL)\n",
        "\n",
        "    # Step 2: Remove HTML comments\n",
        "    text = re.sub(r'<!--.*?-->', '', text, flags=re.DOTALL)\n",
        "\n",
        "    # Step 3: Remove remaining HTML tags using BeautifulSoup\n",
        "    soup = BeautifulSoup(text, 'html.parser')\n",
        "    text = soup.get_text(separator=' ')  # Extract text and separate with spaces\n",
        "\n",
        "    # Step 4: General regex to remove any encodings like =XX (two hexadecimal digits)\n",
        "    text = re.sub(r'=[0-9A-Fa-f]{2}', ' ', text)\n",
        "\n",
        "    # Step 5: Remove extra whitespace\n",
        "    text = re.sub(r'\\s+', ' ', text).strip()\n",
        "\n",
        "    # Remove special characters and numbers\n",
        "    # text = re.sub(r'[^a-zA-Z\\s]', ' ', text)\n",
        "\n",
        "    # Remove standalone single characters\n",
        "    # text = re.sub(r'\\b\\w\\b', '', text)\n",
        "\n",
        "    # Remove prefixed 'b'\n",
        "    text = text.lstrip('b')\n",
        "\n",
        "    # Remove any extra spaces again, just to be sure\n",
        "    text = re.sub(r'\\s+', ' ', text)\n",
        "\n",
        "    # Convert to lowercase\n",
        "    text = text.lower()\n",
        "\n",
        "    return text\n"
      ],
      "metadata": {
        "id": "mdBCoezpBLzD"
      },
      "execution_count": 7,
      "outputs": []
    },
    {
      "cell_type": "code",
      "source": [
        "# Apply the clean_text function and overwrite the 'text' column\n",
        "review_nlp = reviews.copy()\n",
        "\n",
        "# Does this go now, or after tokenizing?\n",
        "review_nlp['text'] = review_nlp['text'].apply(clean_text)\n",
        "\n",
        "# and see the first 5 texts\n",
        "print(review_nlp.values[:5,0])"
      ],
      "metadata": {
        "colab": {
          "base_uri": "https://localhost:8080/"
        },
        "id": "n9VSDJHEBVyJ",
        "outputId": "86a45fde-91da-4ff9-a328-8ab5fc529a1e"
      },
      "execution_count": 8,
      "outputs": [
        {
          "output_type": "stream",
          "name": "stderr",
          "text": [
            "<ipython-input-7-feec2c5e0abe>:11: MarkupResemblesLocatorWarning: The input looks more like a filename than markup. You may want to open this file and pass the filehandle into Beautiful Soup.\n",
            "  soup = BeautifulSoup(text, 'html.parser')\n"
          ]
        },
        {
          "output_type": "stream",
          "name": "stdout",
          "text": [
            "['(kindle) this product so far has not disappointed. my children love to use it and i like the ability to monitor control what content they see with ease.'\n",
            " '(very fast) great for beginner or experienced person. bought as a gift and she loves it'\n",
            " '(beginner tablet for our 9 year old son.) inexpensive tablet for him to use and learn on, step up from the nabi. he was thrilled with it, learn how to skype on it already...'\n",
            " \"(good!!!) i've had my fire hd 8 two weeks now and i love it. this tablet is a great value.we are prime members and that is where this tablet shines. i love being able to easily access all of the prime content as well as movies you can download and watch laterthis has a 1280/800 screen which has some really nice look to it its nice and crisp and very bright infact it is brighter then the ipad pro costing $900 base model. the build on this fire is insanely awesome running at only 7.7mm thick and the smooth glossy feel on the back it is really amazing to hold its like the futuristic tab in ur hands.\"\n",
            " '(fantastic tablet for kids) i bought this for my grand daughter when she comes over to visit. i set it up with her as the user, entered her age and name and now amazon makes sure that she only accesses sites and content that are appropriate to her age. simple to do and she loves the capabilities. i also bought and installed a 64gig sd card which gives this little tablet plenty of storage. for the price i think this tablet is best one out there. you can spend hundreds of dollars more for additional speed and capacity but when it comes to the basics this tablets does everything that most people will ever need at a fraction of the cost.']\n"
          ]
        }
      ]
    },
    {
      "cell_type": "markdown",
      "source": [
        "#### Tokenization and Lemmatization"
      ],
      "metadata": {
        "id": "jjQMI-nbFisL"
      }
    },
    {
      "cell_type": "code",
      "source": [
        "import nltk\n",
        "dler = nltk.downloader.Downloader()\n",
        "dler._update_index()\n",
        "dler._status_cache['panlex_lite'] = 'installed' # Trick the index to treat panlex_lite as it's already installed.\n",
        "dler.download('stopwords')\n"
      ],
      "metadata": {
        "colab": {
          "base_uri": "https://localhost:8080/"
        },
        "id": "3o-eDwnhKp2K",
        "outputId": "809e2616-ef6b-4193-c97e-c43549597299"
      },
      "execution_count": 11,
      "outputs": [
        {
          "output_type": "stream",
          "name": "stderr",
          "text": [
            "[nltk_data] Downloading package stopwords to /root/nltk_data...\n",
            "[nltk_data]   Package stopwords is already up-to-date!\n"
          ]
        },
        {
          "output_type": "execute_result",
          "data": {
            "text/plain": [
              "True"
            ]
          },
          "metadata": {},
          "execution_count": 11
        }
      ]
    },
    {
      "cell_type": "code",
      "source": [
        "import string\n",
        "from nltk.corpus import stopwords\n",
        "\n",
        "# try:\n",
        "from nltk.stem.snowball import SnowballStemmer\n",
        "from nltk.stem import WordNetLemmatizer\n",
        "dler.download('punkt_tab')\n",
        "from nltk.tokenize import word_tokenize\n",
        "\n",
        "stop = stopwords.words('english')"
      ],
      "metadata": {
        "colab": {
          "base_uri": "https://localhost:8080/"
        },
        "id": "uOO-o-0PGb3B",
        "outputId": "2f1f54a1-1f37-4da4-ed9c-afcebbf1ec56"
      },
      "execution_count": 12,
      "outputs": [
        {
          "output_type": "stream",
          "name": "stderr",
          "text": [
            "[nltk_data] Downloading package punkt_tab to /root/nltk_data...\n",
            "[nltk_data]   Unzipping tokenizers/punkt_tab.zip.\n"
          ]
        }
      ]
    },
    {
      "cell_type": "code",
      "source": [
        "# Tokenize\n",
        "review_nlp['text'] = review_nlp['text'].apply(word_tokenize)\n",
        "review_nlp.head()"
      ],
      "metadata": {
        "colab": {
          "base_uri": "https://localhost:8080/",
          "height": 206
        },
        "id": "2p_5cHHpI7P4",
        "outputId": "8c9cca88-d5b1-496f-bf8d-82fea54f4d6d"
      },
      "execution_count": 13,
      "outputs": [
        {
          "output_type": "execute_result",
          "data": {
            "text/plain": [
              "                                                text    rating\n",
              "0  [(, kindle, ), this, product, so, far, has, no...  positive\n",
              "1  [(, very, fast, ), great, for, beginner, or, e...  positive\n",
              "2  [(, beginner, tablet, for, our, 9, year, old, ...  positive\n",
              "3  [(, good, !, !, !, ), i, 've, had, my, fire, h...   neutral\n",
              "4  [(, fantastic, tablet, for, kids, ), i, bought...  positive"
            ],
            "text/html": [
              "\n",
              "  <div id=\"df-4a656426-1ffb-41c2-8a8b-4edc39d878a3\" class=\"colab-df-container\">\n",
              "    <div>\n",
              "<style scoped>\n",
              "    .dataframe tbody tr th:only-of-type {\n",
              "        vertical-align: middle;\n",
              "    }\n",
              "\n",
              "    .dataframe tbody tr th {\n",
              "        vertical-align: top;\n",
              "    }\n",
              "\n",
              "    .dataframe thead th {\n",
              "        text-align: right;\n",
              "    }\n",
              "</style>\n",
              "<table border=\"1\" class=\"dataframe\">\n",
              "  <thead>\n",
              "    <tr style=\"text-align: right;\">\n",
              "      <th></th>\n",
              "      <th>text</th>\n",
              "      <th>rating</th>\n",
              "    </tr>\n",
              "  </thead>\n",
              "  <tbody>\n",
              "    <tr>\n",
              "      <th>0</th>\n",
              "      <td>[(, kindle, ), this, product, so, far, has, no...</td>\n",
              "      <td>positive</td>\n",
              "    </tr>\n",
              "    <tr>\n",
              "      <th>1</th>\n",
              "      <td>[(, very, fast, ), great, for, beginner, or, e...</td>\n",
              "      <td>positive</td>\n",
              "    </tr>\n",
              "    <tr>\n",
              "      <th>2</th>\n",
              "      <td>[(, beginner, tablet, for, our, 9, year, old, ...</td>\n",
              "      <td>positive</td>\n",
              "    </tr>\n",
              "    <tr>\n",
              "      <th>3</th>\n",
              "      <td>[(, good, !, !, !, ), i, 've, had, my, fire, h...</td>\n",
              "      <td>neutral</td>\n",
              "    </tr>\n",
              "    <tr>\n",
              "      <th>4</th>\n",
              "      <td>[(, fantastic, tablet, for, kids, ), i, bought...</td>\n",
              "      <td>positive</td>\n",
              "    </tr>\n",
              "  </tbody>\n",
              "</table>\n",
              "</div>\n",
              "    <div class=\"colab-df-buttons\">\n",
              "\n",
              "  <div class=\"colab-df-container\">\n",
              "    <button class=\"colab-df-convert\" onclick=\"convertToInteractive('df-4a656426-1ffb-41c2-8a8b-4edc39d878a3')\"\n",
              "            title=\"Convert this dataframe to an interactive table.\"\n",
              "            style=\"display:none;\">\n",
              "\n",
              "  <svg xmlns=\"http://www.w3.org/2000/svg\" height=\"24px\" viewBox=\"0 -960 960 960\">\n",
              "    <path d=\"M120-120v-720h720v720H120Zm60-500h600v-160H180v160Zm220 220h160v-160H400v160Zm0 220h160v-160H400v160ZM180-400h160v-160H180v160Zm440 0h160v-160H620v160ZM180-180h160v-160H180v160Zm440 0h160v-160H620v160Z\"/>\n",
              "  </svg>\n",
              "    </button>\n",
              "\n",
              "  <style>\n",
              "    .colab-df-container {\n",
              "      display:flex;\n",
              "      gap: 12px;\n",
              "    }\n",
              "\n",
              "    .colab-df-convert {\n",
              "      background-color: #E8F0FE;\n",
              "      border: none;\n",
              "      border-radius: 50%;\n",
              "      cursor: pointer;\n",
              "      display: none;\n",
              "      fill: #1967D2;\n",
              "      height: 32px;\n",
              "      padding: 0 0 0 0;\n",
              "      width: 32px;\n",
              "    }\n",
              "\n",
              "    .colab-df-convert:hover {\n",
              "      background-color: #E2EBFA;\n",
              "      box-shadow: 0px 1px 2px rgba(60, 64, 67, 0.3), 0px 1px 3px 1px rgba(60, 64, 67, 0.15);\n",
              "      fill: #174EA6;\n",
              "    }\n",
              "\n",
              "    .colab-df-buttons div {\n",
              "      margin-bottom: 4px;\n",
              "    }\n",
              "\n",
              "    [theme=dark] .colab-df-convert {\n",
              "      background-color: #3B4455;\n",
              "      fill: #D2E3FC;\n",
              "    }\n",
              "\n",
              "    [theme=dark] .colab-df-convert:hover {\n",
              "      background-color: #434B5C;\n",
              "      box-shadow: 0px 1px 3px 1px rgba(0, 0, 0, 0.15);\n",
              "      filter: drop-shadow(0px 1px 2px rgba(0, 0, 0, 0.3));\n",
              "      fill: #FFFFFF;\n",
              "    }\n",
              "  </style>\n",
              "\n",
              "    <script>\n",
              "      const buttonEl =\n",
              "        document.querySelector('#df-4a656426-1ffb-41c2-8a8b-4edc39d878a3 button.colab-df-convert');\n",
              "      buttonEl.style.display =\n",
              "        google.colab.kernel.accessAllowed ? 'block' : 'none';\n",
              "\n",
              "      async function convertToInteractive(key) {\n",
              "        const element = document.querySelector('#df-4a656426-1ffb-41c2-8a8b-4edc39d878a3');\n",
              "        const dataTable =\n",
              "          await google.colab.kernel.invokeFunction('convertToInteractive',\n",
              "                                                    [key], {});\n",
              "        if (!dataTable) return;\n",
              "\n",
              "        const docLinkHtml = 'Like what you see? Visit the ' +\n",
              "          '<a target=\"_blank\" href=https://colab.research.google.com/notebooks/data_table.ipynb>data table notebook</a>'\n",
              "          + ' to learn more about interactive tables.';\n",
              "        element.innerHTML = '';\n",
              "        dataTable['output_type'] = 'display_data';\n",
              "        await google.colab.output.renderOutput(dataTable, element);\n",
              "        const docLink = document.createElement('div');\n",
              "        docLink.innerHTML = docLinkHtml;\n",
              "        element.appendChild(docLink);\n",
              "      }\n",
              "    </script>\n",
              "  </div>\n",
              "\n",
              "\n",
              "<div id=\"df-d5056620-824f-4ee0-b22d-5cef1c329102\">\n",
              "  <button class=\"colab-df-quickchart\" onclick=\"quickchart('df-d5056620-824f-4ee0-b22d-5cef1c329102')\"\n",
              "            title=\"Suggest charts\"\n",
              "            style=\"display:none;\">\n",
              "\n",
              "<svg xmlns=\"http://www.w3.org/2000/svg\" height=\"24px\"viewBox=\"0 0 24 24\"\n",
              "     width=\"24px\">\n",
              "    <g>\n",
              "        <path d=\"M19 3H5c-1.1 0-2 .9-2 2v14c0 1.1.9 2 2 2h14c1.1 0 2-.9 2-2V5c0-1.1-.9-2-2-2zM9 17H7v-7h2v7zm4 0h-2V7h2v10zm4 0h-2v-4h2v4z\"/>\n",
              "    </g>\n",
              "</svg>\n",
              "  </button>\n",
              "\n",
              "<style>\n",
              "  .colab-df-quickchart {\n",
              "      --bg-color: #E8F0FE;\n",
              "      --fill-color: #1967D2;\n",
              "      --hover-bg-color: #E2EBFA;\n",
              "      --hover-fill-color: #174EA6;\n",
              "      --disabled-fill-color: #AAA;\n",
              "      --disabled-bg-color: #DDD;\n",
              "  }\n",
              "\n",
              "  [theme=dark] .colab-df-quickchart {\n",
              "      --bg-color: #3B4455;\n",
              "      --fill-color: #D2E3FC;\n",
              "      --hover-bg-color: #434B5C;\n",
              "      --hover-fill-color: #FFFFFF;\n",
              "      --disabled-bg-color: #3B4455;\n",
              "      --disabled-fill-color: #666;\n",
              "  }\n",
              "\n",
              "  .colab-df-quickchart {\n",
              "    background-color: var(--bg-color);\n",
              "    border: none;\n",
              "    border-radius: 50%;\n",
              "    cursor: pointer;\n",
              "    display: none;\n",
              "    fill: var(--fill-color);\n",
              "    height: 32px;\n",
              "    padding: 0;\n",
              "    width: 32px;\n",
              "  }\n",
              "\n",
              "  .colab-df-quickchart:hover {\n",
              "    background-color: var(--hover-bg-color);\n",
              "    box-shadow: 0 1px 2px rgba(60, 64, 67, 0.3), 0 1px 3px 1px rgba(60, 64, 67, 0.15);\n",
              "    fill: var(--button-hover-fill-color);\n",
              "  }\n",
              "\n",
              "  .colab-df-quickchart-complete:disabled,\n",
              "  .colab-df-quickchart-complete:disabled:hover {\n",
              "    background-color: var(--disabled-bg-color);\n",
              "    fill: var(--disabled-fill-color);\n",
              "    box-shadow: none;\n",
              "  }\n",
              "\n",
              "  .colab-df-spinner {\n",
              "    border: 2px solid var(--fill-color);\n",
              "    border-color: transparent;\n",
              "    border-bottom-color: var(--fill-color);\n",
              "    animation:\n",
              "      spin 1s steps(1) infinite;\n",
              "  }\n",
              "\n",
              "  @keyframes spin {\n",
              "    0% {\n",
              "      border-color: transparent;\n",
              "      border-bottom-color: var(--fill-color);\n",
              "      border-left-color: var(--fill-color);\n",
              "    }\n",
              "    20% {\n",
              "      border-color: transparent;\n",
              "      border-left-color: var(--fill-color);\n",
              "      border-top-color: var(--fill-color);\n",
              "    }\n",
              "    30% {\n",
              "      border-color: transparent;\n",
              "      border-left-color: var(--fill-color);\n",
              "      border-top-color: var(--fill-color);\n",
              "      border-right-color: var(--fill-color);\n",
              "    }\n",
              "    40% {\n",
              "      border-color: transparent;\n",
              "      border-right-color: var(--fill-color);\n",
              "      border-top-color: var(--fill-color);\n",
              "    }\n",
              "    60% {\n",
              "      border-color: transparent;\n",
              "      border-right-color: var(--fill-color);\n",
              "    }\n",
              "    80% {\n",
              "      border-color: transparent;\n",
              "      border-right-color: var(--fill-color);\n",
              "      border-bottom-color: var(--fill-color);\n",
              "    }\n",
              "    90% {\n",
              "      border-color: transparent;\n",
              "      border-bottom-color: var(--fill-color);\n",
              "    }\n",
              "  }\n",
              "</style>\n",
              "\n",
              "  <script>\n",
              "    async function quickchart(key) {\n",
              "      const quickchartButtonEl =\n",
              "        document.querySelector('#' + key + ' button');\n",
              "      quickchartButtonEl.disabled = true;  // To prevent multiple clicks.\n",
              "      quickchartButtonEl.classList.add('colab-df-spinner');\n",
              "      try {\n",
              "        const charts = await google.colab.kernel.invokeFunction(\n",
              "            'suggestCharts', [key], {});\n",
              "      } catch (error) {\n",
              "        console.error('Error during call to suggestCharts:', error);\n",
              "      }\n",
              "      quickchartButtonEl.classList.remove('colab-df-spinner');\n",
              "      quickchartButtonEl.classList.add('colab-df-quickchart-complete');\n",
              "    }\n",
              "    (() => {\n",
              "      let quickchartButtonEl =\n",
              "        document.querySelector('#df-d5056620-824f-4ee0-b22d-5cef1c329102 button');\n",
              "      quickchartButtonEl.style.display =\n",
              "        google.colab.kernel.accessAllowed ? 'block' : 'none';\n",
              "    })();\n",
              "  </script>\n",
              "</div>\n",
              "\n",
              "    </div>\n",
              "  </div>\n"
            ],
            "application/vnd.google.colaboratory.intrinsic+json": {
              "type": "dataframe",
              "variable_name": "review_nlp",
              "summary": "{\n  \"name\": \"review_nlp\",\n  \"rows\": 34620,\n  \"fields\": [\n    {\n      \"column\": \"text\",\n      \"properties\": {\n        \"dtype\": \"object\",\n        \"semantic_type\": \"\",\n        \"description\": \"\"\n      }\n    },\n    {\n      \"column\": \"rating\",\n      \"properties\": {\n        \"dtype\": \"category\",\n        \"num_unique_values\": 3,\n        \"samples\": [\n          \"positive\",\n          \"neutral\",\n          \"negative\"\n        ],\n        \"semantic_type\": \"\",\n        \"description\": \"\"\n      }\n    }\n  ]\n}"
            }
          },
          "metadata": {},
          "execution_count": 13
        }
      ]
    },
    {
      "cell_type": "code",
      "source": [
        "# remove punctuation\n",
        "# Compile the punctuation pattern once\n",
        "pattern = re.compile('[%s]' % re.escape(string.punctuation))\n",
        "\n",
        "# Define a function to remove punctuation from tokenized sentences\n",
        "def remove_punctuation_from_tokens(tokenized_sentence):\n",
        "    return [pattern.sub('', token) for token in tokenized_sentence if pattern.sub('', token)]\n",
        "\n",
        "# Apply the function to the 'text' column of the DataFrame\n",
        "review_nlp['text'] = review_nlp['text'].apply(lambda sentence: remove_punctuation_from_tokens(sentence))\n",
        "\n",
        "# Check the result\n",
        "print(review_nlp.head())"
      ],
      "metadata": {
        "colab": {
          "base_uri": "https://localhost:8080/"
        },
        "id": "fW9lTMWpMUSP",
        "outputId": "6fa566e7-85a9-4953-d518-aaabac2d2388"
      },
      "execution_count": 14,
      "outputs": [
        {
          "output_type": "stream",
          "name": "stdout",
          "text": [
            "                                                text    rating\n",
            "0  [kindle, this, product, so, far, has, not, dis...  positive\n",
            "1  [very, fast, great, for, beginner, or, experie...  positive\n",
            "2  [beginner, tablet, for, our, 9, year, old, son...  positive\n",
            "3  [good, i, ve, had, my, fire, hd, 8, two, weeks...   neutral\n",
            "4  [fantastic, tablet, for, kids, i, bought, this...  positive\n"
          ]
        }
      ]
    },
    {
      "cell_type": "code",
      "source": [
        "# Lematize\n",
        "import nltk\n",
        "from nltk.corpus import wordnet\n",
        "from nltk.stem import WordNetLemmatizer\n",
        "dler.download('averaged_perceptron_tagger_eng')\n",
        "dler.download('wordnet')\n",
        "\n",
        "# Initialize the WordNet lemmatizer\n",
        "wordnet_lemma = WordNetLemmatizer()\n",
        "\n",
        "# Function to get word POS for lemmatization\n",
        "def get_wordnet_pos(word):\n",
        "    \"\"\"Map POS tag to the first character lemmatize() accepts\"\"\"\n",
        "    tag = nltk.pos_tag([word])[0][1][0]  # Get the POS tag for the word\n",
        "    tag_dict = {\"J\": wordnet.ADJ,  # Adjective\n",
        "                \"N\": wordnet.NOUN,  # Noun\n",
        "                \"V\": wordnet.VERB,  # Verb\n",
        "                \"R\": wordnet.ADV}   # Adverb\n",
        "\n",
        "    return tag_dict.get(tag, wordnet.NOUN)  # Default to NOUN if unknown\n",
        "\n",
        "# Function to lemmatize a tokenized sentence\n",
        "def lemmatize_sentence(sentence):\n",
        "    return [wordnet_lemma.lemmatize(word, get_wordnet_pos(word)) for word in sentence]"
      ],
      "metadata": {
        "colab": {
          "base_uri": "https://localhost:8080/"
        },
        "id": "2FJcJmknPAZr",
        "outputId": "252ae22f-fd1e-4d35-d80a-b6652ed646e3"
      },
      "execution_count": 15,
      "outputs": [
        {
          "output_type": "stream",
          "name": "stderr",
          "text": [
            "[nltk_data] Downloading package averaged_perceptron_tagger_eng to\n",
            "[nltk_data]     /root/nltk_data...\n",
            "[nltk_data]   Unzipping taggers/averaged_perceptron_tagger_eng.zip.\n",
            "[nltk_data] Downloading package wordnet to /root/nltk_data...\n"
          ]
        }
      ]
    },
    {
      "cell_type": "code",
      "source": [
        "# Apply the lemmatization function to the 'text' column\n",
        "review_nlp['text'] = review_nlp['text'].apply(lemmatize_sentence)\n",
        "\n",
        "# Check the result\n",
        "print(review_nlp.head())"
      ],
      "metadata": {
        "colab": {
          "base_uri": "https://localhost:8080/"
        },
        "id": "-91JGul6PI4d",
        "outputId": "8c934dd6-b125-4e4a-910f-ac8256a8f514"
      },
      "execution_count": 16,
      "outputs": [
        {
          "output_type": "stream",
          "name": "stdout",
          "text": [
            "                                                text    rating\n",
            "0  [kindle, this, product, so, far, have, not, di...  positive\n",
            "1  [very, fast, great, for, beginner, or, experie...  positive\n",
            "2  [beginner, tablet, for, our, 9, year, old, son...  positive\n",
            "3  [good, i, ve, have, my, fire, hd, 8, two, week...   neutral\n",
            "4  [fantastic, tablet, for, kid, i, bought, this,...  positive\n"
          ]
        }
      ]
    },
    {
      "cell_type": "markdown",
      "source": [
        "#### Remove Stopwords"
      ],
      "metadata": {
        "id": "tf8-ImvESO8c"
      }
    },
    {
      "cell_type": "code",
      "source": [
        "# remove stopwords\n",
        "import nltk\n",
        "from nltk.corpus import stopwords\n",
        "\n",
        "# Load NLTK stopwords\n",
        "stop_words = set(stopwords.words('english'))\n",
        "\n",
        "# Function to remove stopwords from a tokenized sentence\n",
        "def remove_stopwords(sentence):\n",
        "    return [word for word in sentence if word.lower() not in stop_words]\n",
        "\n",
        "# Apply the stopword removal function to the 'text' column\n",
        "review_nlp['text'] = review_nlp['text'].apply(remove_stopwords)\n",
        "\n",
        "# Check the result\n",
        "print(review_nlp.head())\n"
      ],
      "metadata": {
        "colab": {
          "base_uri": "https://localhost:8080/"
        },
        "id": "U8fnTtjhP-34",
        "outputId": "e9fef1bb-25f9-4f14-f9e3-530c63bd4868"
      },
      "execution_count": 17,
      "outputs": [
        {
          "output_type": "stream",
          "name": "stdout",
          "text": [
            "                                                text    rating\n",
            "0  [kindle, product, far, disappointed, child, lo...  positive\n",
            "1  [fast, great, beginner, experienced, person, b...  positive\n",
            "2  [beginner, tablet, 9, year, old, son, inexpens...  positive\n",
            "3  [good, fire, hd, 8, two, week, love, tablet, g...   neutral\n",
            "4  [fantastic, tablet, kid, bought, grand, daught...  positive\n"
          ]
        }
      ]
    },
    {
      "cell_type": "markdown",
      "source": [
        "#### Vectorize"
      ],
      "metadata": {
        "id": "NBs7WvChSFzQ"
      }
    },
    {
      "cell_type": "markdown",
      "source": [
        "I will count the total number of words just for curiosity (and to have an idea of the argument i will pass to the ifidf"
      ],
      "metadata": {
        "id": "sAZAmGkit85Z"
      }
    },
    {
      "cell_type": "code",
      "source": [
        "# Get all tokens (assuming your 'text' column contains lists of words)\n",
        "all_words = [word for sentence in review_nlp['text'] for word in sentence]\n",
        "\n",
        "# Count unique words\n",
        "unique_words = set(all_words)\n",
        "\n",
        "# Print the number of unique words\n",
        "print(f\"Total unique words: {len(unique_words)}\")\n"
      ],
      "metadata": {
        "colab": {
          "base_uri": "https://localhost:8080/"
        },
        "id": "0g_8pGDbt7yj",
        "outputId": "72ebb132-ee34-4bdb-c814-d6cc5d9d52cd"
      },
      "execution_count": 18,
      "outputs": [
        {
          "output_type": "stream",
          "name": "stdout",
          "text": [
            "Total unique words: 14678\n"
          ]
        }
      ]
    },
    {
      "cell_type": "markdown",
      "source": [
        "Now, we split the data before doing the IF-IDF to avoid data leakage"
      ],
      "metadata": {
        "id": "NK_-TgksvQ58"
      }
    },
    {
      "cell_type": "code",
      "source": [
        "from sklearn.model_selection import train_test_split\n",
        "from sklearn.feature_extraction.text import TfidfVectorizer\n",
        "\n",
        "# Step 1: Split the dataset into training and test sets\n",
        "X_train, X_test, y_train, y_test = train_test_split(review_nlp['text'], review_nlp['rating'], test_size=0.2, random_state=42)\n",
        "\n",
        "# Step 2: Initialize TfidfVectorizer\n",
        "tfidf = TfidfVectorizer(max_features=5000)  # You can adjust max_features as needed\n",
        "\n",
        "# Join tokenized words back into strings\n",
        "X_train = [' '.join(doc) for doc in X_train]\n",
        "X_test = [' '.join(doc) for doc in X_test]\n",
        "\n",
        "# Step 3: Fit the vectorizer on the training data and transform it\n",
        "X_train_tfidf = tfidf.fit_transform(X_train)\n",
        "\n",
        "# Step 4: Transform the test data using the same vectorizer (without fitting again)\n",
        "X_test_tfidf = tfidf.transform(X_test)\n"
      ],
      "metadata": {
        "id": "Lnvc5-6uvX6-"
      },
      "execution_count": 19,
      "outputs": []
    },
    {
      "cell_type": "code",
      "source": [
        "print(X_train_tfidf.shape)"
      ],
      "metadata": {
        "colab": {
          "base_uri": "https://localhost:8080/"
        },
        "id": "WLCK3OjYxTm3",
        "outputId": "20ccd37e-9dd9-4c40-9b56-2723169d5075"
      },
      "execution_count": 20,
      "outputs": [
        {
          "output_type": "stream",
          "name": "stdout",
          "text": [
            "(27696, 5000)\n"
          ]
        }
      ]
    },
    {
      "cell_type": "markdown",
      "source": [
        "### Model Building"
      ],
      "metadata": {
        "id": "oEFMxdwSykCl"
      }
    },
    {
      "cell_type": "markdown",
      "source": [
        "#### Naive Bayes"
      ],
      "metadata": {
        "id": "g3wTETLQ0Sfm"
      }
    },
    {
      "cell_type": "code",
      "source": [
        "#naive bayes grid search\n",
        "from sklearn.model_selection import GridSearchCV\n",
        "from sklearn.naive_bayes import MultinomialNB\n",
        "from sklearn.metrics import accuracy_score, classification_report\n",
        "from sklearn.model_selection import cross_val_score\n",
        "\n",
        "# Define the parameter grid\n",
        "param_grid = {'alpha': [0.1, 0.5, 1.0, 2.0, 5.0]}\n",
        "\n",
        "# Initialize the Naive Bayes classifier\n",
        "nb = MultinomialNB()\n",
        "\n",
        "# Initialize GridSearchCV\n",
        "grid_search = GridSearchCV(estimator=nb, param_grid=param_grid, cv=5)\n",
        "\n",
        "# Fit the model on the training data\n",
        "grid_search.fit(X_train_tfidf, y_train)\n",
        "\n",
        "# Get the best parameters\n",
        "best_params = grid_search.best_params_\n",
        "print(f\"Best parameters: {best_params}\")\n",
        "\n",
        "# Get the best score\n",
        "best_score = grid_search.best_score_\n",
        "print(f\"Best score: {best_score:.2f}\")\n",
        "\n",
        "# Get the best model\n",
        "best_nb = grid_search.best_estimator_\n"
      ],
      "metadata": {
        "colab": {
          "base_uri": "https://localhost:8080/"
        },
        "id": "LFAu8vH52gk2",
        "outputId": "109c54a3-753f-4dab-82b6-d7979af4f7e1"
      },
      "execution_count": 21,
      "outputs": [
        {
          "output_type": "stream",
          "name": "stdout",
          "text": [
            "Best parameters: {'alpha': 0.1}\n",
            "Best score: 0.71\n"
          ]
        }
      ]
    },
    {
      "cell_type": "code",
      "source": [
        "from sklearn.linear_model import LogisticRegression\n",
        "from sklearn.metrics import classification_report\n",
        "\n",
        "# Initialize the logistic regression model\n",
        "log_reg = LogisticRegression(max_iter=1000)\n",
        "\n",
        "# Fit the model to the transformed training data (X_train_tfidf is a sparse matrix)\n",
        "log_reg.fit(X_train_tfidf, y_train)\n",
        "\n",
        "# Predict the labels for the train data\n",
        "y_pred = log_reg.predict(X_train_tfidf)\n",
        "\n",
        "# Evaluate the model\n",
        "print(\"Training set:\")\n",
        "print(classification_report(y_train, y_pred))\n",
        "\n",
        "# Predict the labels for the test data\n",
        "y_pred = log_reg.predict(X_test_tfidf)\n",
        "\n",
        "print(\"Testing set:\")\n",
        "print(classification_report(y_test, y_pred))\n"
      ],
      "metadata": {
        "colab": {
          "base_uri": "https://localhost:8080/"
        },
        "id": "UVeFielk5KDV",
        "outputId": "c000f9ee-a89c-49cf-f9cd-d3e0e298f7ab"
      },
      "execution_count": 22,
      "outputs": [
        {
          "output_type": "stream",
          "name": "stdout",
          "text": [
            "Training set:\n",
            "              precision    recall  f1-score   support\n",
            "\n",
            "    negative       0.82      0.47      0.60      1834\n",
            "     neutral       0.67      0.38      0.48      6889\n",
            "    positive       0.79      0.95      0.87     18973\n",
            "\n",
            "    accuracy                           0.78     27696\n",
            "   macro avg       0.76      0.60      0.65     27696\n",
            "weighted avg       0.76      0.78      0.75     27696\n",
            "\n",
            "Testing set:\n",
            "              precision    recall  f1-score   support\n",
            "\n",
            "    negative       0.70      0.38      0.49       477\n",
            "     neutral       0.52      0.31      0.39      1651\n",
            "    positive       0.78      0.93      0.85      4796\n",
            "\n",
            "    accuracy                           0.74      6924\n",
            "   macro avg       0.67      0.54      0.58      6924\n",
            "weighted avg       0.72      0.74      0.72      6924\n",
            "\n"
          ]
        }
      ]
    },
    {
      "cell_type": "markdown",
      "source": [
        "#### Random Forest"
      ],
      "metadata": {
        "id": "oM1sZf1W8zOC"
      }
    },
    {
      "cell_type": "code",
      "source": [
        "# Random forest grid search\n",
        "from sklearn.ensemble import RandomForestClassifier\n",
        "\n",
        "# Define the parameter grid\n",
        "param_grid = {'n_estimators': [50, 100, 200, 500],\n",
        "              'max_depth': [5, 10, 20]}\n",
        "\n",
        "# Initialize the Random Forest classifier\n",
        "rf = RandomForestClassifier(random_state=42)\n",
        "\n",
        "# Initialize GridSearchCV\n",
        "grid_search = GridSearchCV(estimator=rf, param_grid=param_grid, cv=5)\n",
        "\n",
        "# Fit the model on the training data\n",
        "grid_search.fit(X_train_tfidf, y_train)\n",
        "\n",
        "# Get the best parameters\n",
        "best_params = grid_search.best_params_\n",
        "print(f\"Best parameters: {best_params}\")\n",
        "\n",
        "# Get the best score\n",
        "best_score = grid_search.best_score_\n",
        "print(f\"Best score: {best_score:.2f}\")\n",
        "\n",
        "# Get the best model\n",
        "best_rf = grid_search.best_estimator_\n"
      ],
      "metadata": {
        "colab": {
          "base_uri": "https://localhost:8080/"
        },
        "id": "RYKCcTvq9Tk-",
        "outputId": "20523916-f832-4b9a-b319-d87ba8fb84ab"
      },
      "execution_count": 23,
      "outputs": [
        {
          "output_type": "stream",
          "name": "stdout",
          "text": [
            "Best parameters: {'max_depth': 20, 'n_estimators': 50}\n",
            "Best score: 0.69\n"
          ]
        }
      ]
    },
    {
      "cell_type": "code",
      "source": [
        "import pickle as pkl\n",
        "\n",
        "# Save the best models\n",
        "with open('best_nb.pkl', 'wb') as f:\n",
        "    pkl.dump(best_nb, f)\n",
        "\n",
        "with open('best_rf.pkl', 'wb') as f:\n",
        "    pkl.dump(best_rf, f)"
      ],
      "metadata": {
        "id": "uG1DRjYaWH57"
      },
      "execution_count": 26,
      "outputs": []
    },
    {
      "cell_type": "markdown",
      "source": [
        "#### SVM\n",
        "commented out because it took too long (1:30hr) and didnt finish. I didnt have the patience to wait longer haha"
      ],
      "metadata": {
        "id": "__JxRS4fAsrq"
      }
    },
    {
      "cell_type": "code",
      "source": [
        "# # SVM grid search\n",
        "# from sklearn.svm import SVC\n",
        "\n",
        "# # Define the parameter grid\n",
        "# param_grid = {'C': [0.1, 1, 10],\n",
        "#               'gamma': [1, 0.1, 0.01],\n",
        "#               'kernel': ['linear', 'rbf']}\n",
        "# # Initialize the SVM classifier\n",
        "# svm = SVC()\n",
        "\n",
        "# # Initialize GridSearchCV\n",
        "# grid_search = GridSearchCV(estimator=svm, param_grid=param_grid, cv=5)\n",
        "\n",
        "# # Fit the model on the training data\n",
        "# grid_search.fit(X_train_tfidf, y_train)\n",
        "\n",
        "# # Get the best parameters\n",
        "# best_params = grid_search.best_params_\n",
        "# print(f\"Best parameters: {best_params}\")\n",
        "\n",
        "# # Get the best score\n",
        "# best_score = grid_search.best_score_\n",
        "# print(f\"Best score: {best_score:.2f}\")\n",
        "\n",
        "# # Get the best model\n",
        "# best_svm = grid_search.best_estimator_"
      ],
      "metadata": {
        "id": "PmMqlapuAsKp"
      },
      "execution_count": null,
      "outputs": []
    },
    {
      "cell_type": "markdown",
      "source": [
        "#### XGBoost"
      ],
      "metadata": {
        "id": "BFeXuu2JB1TD"
      }
    },
    {
      "cell_type": "code",
      "source": [
        "from sklearn.preprocessing import LabelEncoder\n",
        "from xgboost import XGBClassifier\n",
        "\n",
        "# Initialize the label encoder\n",
        "label_encoder = LabelEncoder()\n",
        "\n",
        "# Fit the encoder on the target labels and transform them\n",
        "y_train_encoded = label_encoder.fit_transform(y_train)\n",
        "y_test_encoded = label_encoder.transform(y_test)\n",
        "\n",
        "# Initialize the XGBoost classifier with default or custom parameters\n",
        "xgb = XGBClassifier(n_estimators=100, learning_rate=0.1, max_depth=5, n_jobs=-1)\n",
        "\n",
        "# Train the XGBoost model with encoded labels\n",
        "xgb.fit(X_train_tfidf, y_train_encoded)\n",
        "\n",
        "# Predict on the test set\n",
        "y_pred_encoded = xgb.predict(X_test_tfidf)\n",
        "\n",
        "# Convert the predictions back to the original labels\n",
        "y_pred = label_encoder.inverse_transform(y_pred_encoded)\n",
        "\n",
        "# Evaluate the model\n",
        "accuracy = accuracy_score(y_test, y_pred)\n",
        "print(f\"Accuracy: {accuracy:.2f}\")\n",
        "\n",
        "# Get detailed classification report\n",
        "report = classification_report(y_test, y_pred)\n",
        "print(report)\n"
      ],
      "metadata": {
        "colab": {
          "base_uri": "https://localhost:8080/"
        },
        "id": "Q2DAgQe8XhN5",
        "outputId": "c8acac6b-009f-4d7b-ee70-01f153808d04"
      },
      "execution_count": 31,
      "outputs": [
        {
          "output_type": "stream",
          "name": "stdout",
          "text": [
            "Accuracy: 0.74\n",
            "              precision    recall  f1-score   support\n",
            "\n",
            "    negative       0.73      0.25      0.37       477\n",
            "     neutral       0.57      0.24      0.34      1651\n",
            "    positive       0.76      0.96      0.85      4796\n",
            "\n",
            "    accuracy                           0.74      6924\n",
            "   macro avg       0.69      0.48      0.52      6924\n",
            "weighted avg       0.71      0.74      0.69      6924\n",
            "\n"
          ]
        }
      ]
    },
    {
      "cell_type": "code",
      "source": [
        "# Was going to do grid search, but couldn't\n",
        "import joblib\n",
        "\n",
        "# Save the model to disk\n",
        "joblib.dump(xgb, 'xgb_model.pkl')"
      ],
      "metadata": {
        "colab": {
          "base_uri": "https://localhost:8080/"
        },
        "id": "ZgdcNIaiB8Q1",
        "outputId": "17dee15f-205f-4647-b1f6-a585a44bfb67"
      },
      "execution_count": 32,
      "outputs": [
        {
          "output_type": "execute_result",
          "data": {
            "text/plain": [
              "['xgb_model.pkl']"
            ]
          },
          "metadata": {},
          "execution_count": 32
        }
      ]
    },
    {
      "cell_type": "markdown",
      "source": [
        "## Transformer Approach (HuggingFace)"
      ],
      "metadata": {
        "id": "jUIb44BHZgU-"
      }
    },
    {
      "cell_type": "markdown",
      "source": [
        "Now we will use transformers from HuggingFace to see how it compares to the traditional ML models. We will use the same data, but we will use the transformer to encode the text and then we will use a simple classifier on top of it."
      ],
      "metadata": {
        "id": "LEeddBdtZpMZ"
      }
    },
    {
      "cell_type": "markdown",
      "source": [
        "For BERT models, removing usefull punctuation symbols may negatively affect the performance of the model, as well as lowercasing everything. First, we will ensure that the text is as it should"
      ],
      "metadata": {
        "id": "9dFWm9kNci_d"
      }
    },
    {
      "cell_type": "code",
      "source": [
        "import re\n",
        "from bs4 import BeautifulSoup\n",
        "def clean_text2(text):\n",
        "    # Step 1: Remove inline JavaScript/CSS\n",
        "    text = re.sub(r'<(script|style).*?>.*?</\\1>', '', text, flags=re.DOTALL)\n",
        "\n",
        "    # Step 2: Remove HTML comments\n",
        "    text = re.sub(r'<!--.*?-->', '', text, flags=re.DOTALL)\n",
        "\n",
        "    # Step 3: Remove remaining HTML tags using BeautifulSoup\n",
        "    soup = BeautifulSoup(text, 'html.parser')\n",
        "    text = soup.get_text(separator=' ')  # Extract text and separate with spaces\n",
        "\n",
        "    # Step 4: General regex to remove any encodings like =XX (two hexadecimal digits)\n",
        "    text = re.sub(r'=[0-9A-Fa-f]{2}', ' ', text)\n",
        "\n",
        "    # Step 5: Remove extra whitespace\n",
        "    text = re.sub(r'\\s+', ' ', text).strip()\n",
        "\n",
        "    # Remove prefixed 'b'\n",
        "    text = text.lstrip('b')\n",
        "\n",
        "    # Remove any extra spaces again, just to be sure\n",
        "    text = re.sub(r'\\s+', ' ', text)\n",
        "\n",
        "    return text\n",
        "\n",
        "reviews_hugging = reviews.copy()\n",
        "reviews_hugging['text'] = reviews_hugging['text'].apply(clean_text2)\n",
        "reviews_hugging.head(5)"
      ],
      "metadata": {
        "colab": {
          "base_uri": "https://localhost:8080/",
          "height": 262
        },
        "id": "tqmTH2sNc3n1",
        "outputId": "581d04b3-3c85-4710-e8d4-02e6a0626ccd"
      },
      "execution_count": 5,
      "outputs": [
        {
          "output_type": "stream",
          "name": "stderr",
          "text": [
            "<ipython-input-5-0ae28d85af6d>:11: MarkupResemblesLocatorWarning: The input looks more like a filename than markup. You may want to open this file and pass the filehandle into Beautiful Soup.\n",
            "  soup = BeautifulSoup(text, 'html.parser')\n"
          ]
        },
        {
          "output_type": "execute_result",
          "data": {
            "text/plain": [
              "                                                text    rating\n",
              "0  (Kindle) This product so far has not disappoin...  positive\n",
              "1  (very fast) great for beginner or experienced ...  positive\n",
              "2  (Beginner tablet for our 9 year old son.) Inex...  positive\n",
              "3  (Good!!!) I've had my Fire HD 8 two weeks now ...   neutral\n",
              "4  (Fantastic Tablet for kids) I bought this for ...  positive"
            ],
            "text/html": [
              "\n",
              "  <div id=\"df-b9623996-c020-4a6d-a616-4672b201c331\" class=\"colab-df-container\">\n",
              "    <div>\n",
              "<style scoped>\n",
              "    .dataframe tbody tr th:only-of-type {\n",
              "        vertical-align: middle;\n",
              "    }\n",
              "\n",
              "    .dataframe tbody tr th {\n",
              "        vertical-align: top;\n",
              "    }\n",
              "\n",
              "    .dataframe thead th {\n",
              "        text-align: right;\n",
              "    }\n",
              "</style>\n",
              "<table border=\"1\" class=\"dataframe\">\n",
              "  <thead>\n",
              "    <tr style=\"text-align: right;\">\n",
              "      <th></th>\n",
              "      <th>text</th>\n",
              "      <th>rating</th>\n",
              "    </tr>\n",
              "  </thead>\n",
              "  <tbody>\n",
              "    <tr>\n",
              "      <th>0</th>\n",
              "      <td>(Kindle) This product so far has not disappoin...</td>\n",
              "      <td>positive</td>\n",
              "    </tr>\n",
              "    <tr>\n",
              "      <th>1</th>\n",
              "      <td>(very fast) great for beginner or experienced ...</td>\n",
              "      <td>positive</td>\n",
              "    </tr>\n",
              "    <tr>\n",
              "      <th>2</th>\n",
              "      <td>(Beginner tablet for our 9 year old son.) Inex...</td>\n",
              "      <td>positive</td>\n",
              "    </tr>\n",
              "    <tr>\n",
              "      <th>3</th>\n",
              "      <td>(Good!!!) I've had my Fire HD 8 two weeks now ...</td>\n",
              "      <td>neutral</td>\n",
              "    </tr>\n",
              "    <tr>\n",
              "      <th>4</th>\n",
              "      <td>(Fantastic Tablet for kids) I bought this for ...</td>\n",
              "      <td>positive</td>\n",
              "    </tr>\n",
              "  </tbody>\n",
              "</table>\n",
              "</div>\n",
              "    <div class=\"colab-df-buttons\">\n",
              "\n",
              "  <div class=\"colab-df-container\">\n",
              "    <button class=\"colab-df-convert\" onclick=\"convertToInteractive('df-b9623996-c020-4a6d-a616-4672b201c331')\"\n",
              "            title=\"Convert this dataframe to an interactive table.\"\n",
              "            style=\"display:none;\">\n",
              "\n",
              "  <svg xmlns=\"http://www.w3.org/2000/svg\" height=\"24px\" viewBox=\"0 -960 960 960\">\n",
              "    <path d=\"M120-120v-720h720v720H120Zm60-500h600v-160H180v160Zm220 220h160v-160H400v160Zm0 220h160v-160H400v160ZM180-400h160v-160H180v160Zm440 0h160v-160H620v160ZM180-180h160v-160H180v160Zm440 0h160v-160H620v160Z\"/>\n",
              "  </svg>\n",
              "    </button>\n",
              "\n",
              "  <style>\n",
              "    .colab-df-container {\n",
              "      display:flex;\n",
              "      gap: 12px;\n",
              "    }\n",
              "\n",
              "    .colab-df-convert {\n",
              "      background-color: #E8F0FE;\n",
              "      border: none;\n",
              "      border-radius: 50%;\n",
              "      cursor: pointer;\n",
              "      display: none;\n",
              "      fill: #1967D2;\n",
              "      height: 32px;\n",
              "      padding: 0 0 0 0;\n",
              "      width: 32px;\n",
              "    }\n",
              "\n",
              "    .colab-df-convert:hover {\n",
              "      background-color: #E2EBFA;\n",
              "      box-shadow: 0px 1px 2px rgba(60, 64, 67, 0.3), 0px 1px 3px 1px rgba(60, 64, 67, 0.15);\n",
              "      fill: #174EA6;\n",
              "    }\n",
              "\n",
              "    .colab-df-buttons div {\n",
              "      margin-bottom: 4px;\n",
              "    }\n",
              "\n",
              "    [theme=dark] .colab-df-convert {\n",
              "      background-color: #3B4455;\n",
              "      fill: #D2E3FC;\n",
              "    }\n",
              "\n",
              "    [theme=dark] .colab-df-convert:hover {\n",
              "      background-color: #434B5C;\n",
              "      box-shadow: 0px 1px 3px 1px rgba(0, 0, 0, 0.15);\n",
              "      filter: drop-shadow(0px 1px 2px rgba(0, 0, 0, 0.3));\n",
              "      fill: #FFFFFF;\n",
              "    }\n",
              "  </style>\n",
              "\n",
              "    <script>\n",
              "      const buttonEl =\n",
              "        document.querySelector('#df-b9623996-c020-4a6d-a616-4672b201c331 button.colab-df-convert');\n",
              "      buttonEl.style.display =\n",
              "        google.colab.kernel.accessAllowed ? 'block' : 'none';\n",
              "\n",
              "      async function convertToInteractive(key) {\n",
              "        const element = document.querySelector('#df-b9623996-c020-4a6d-a616-4672b201c331');\n",
              "        const dataTable =\n",
              "          await google.colab.kernel.invokeFunction('convertToInteractive',\n",
              "                                                    [key], {});\n",
              "        if (!dataTable) return;\n",
              "\n",
              "        const docLinkHtml = 'Like what you see? Visit the ' +\n",
              "          '<a target=\"_blank\" href=https://colab.research.google.com/notebooks/data_table.ipynb>data table notebook</a>'\n",
              "          + ' to learn more about interactive tables.';\n",
              "        element.innerHTML = '';\n",
              "        dataTable['output_type'] = 'display_data';\n",
              "        await google.colab.output.renderOutput(dataTable, element);\n",
              "        const docLink = document.createElement('div');\n",
              "        docLink.innerHTML = docLinkHtml;\n",
              "        element.appendChild(docLink);\n",
              "      }\n",
              "    </script>\n",
              "  </div>\n",
              "\n",
              "\n",
              "<div id=\"df-c61aac9c-9b94-4d25-8be4-cb1815a66ee2\">\n",
              "  <button class=\"colab-df-quickchart\" onclick=\"quickchart('df-c61aac9c-9b94-4d25-8be4-cb1815a66ee2')\"\n",
              "            title=\"Suggest charts\"\n",
              "            style=\"display:none;\">\n",
              "\n",
              "<svg xmlns=\"http://www.w3.org/2000/svg\" height=\"24px\"viewBox=\"0 0 24 24\"\n",
              "     width=\"24px\">\n",
              "    <g>\n",
              "        <path d=\"M19 3H5c-1.1 0-2 .9-2 2v14c0 1.1.9 2 2 2h14c1.1 0 2-.9 2-2V5c0-1.1-.9-2-2-2zM9 17H7v-7h2v7zm4 0h-2V7h2v10zm4 0h-2v-4h2v4z\"/>\n",
              "    </g>\n",
              "</svg>\n",
              "  </button>\n",
              "\n",
              "<style>\n",
              "  .colab-df-quickchart {\n",
              "      --bg-color: #E8F0FE;\n",
              "      --fill-color: #1967D2;\n",
              "      --hover-bg-color: #E2EBFA;\n",
              "      --hover-fill-color: #174EA6;\n",
              "      --disabled-fill-color: #AAA;\n",
              "      --disabled-bg-color: #DDD;\n",
              "  }\n",
              "\n",
              "  [theme=dark] .colab-df-quickchart {\n",
              "      --bg-color: #3B4455;\n",
              "      --fill-color: #D2E3FC;\n",
              "      --hover-bg-color: #434B5C;\n",
              "      --hover-fill-color: #FFFFFF;\n",
              "      --disabled-bg-color: #3B4455;\n",
              "      --disabled-fill-color: #666;\n",
              "  }\n",
              "\n",
              "  .colab-df-quickchart {\n",
              "    background-color: var(--bg-color);\n",
              "    border: none;\n",
              "    border-radius: 50%;\n",
              "    cursor: pointer;\n",
              "    display: none;\n",
              "    fill: var(--fill-color);\n",
              "    height: 32px;\n",
              "    padding: 0;\n",
              "    width: 32px;\n",
              "  }\n",
              "\n",
              "  .colab-df-quickchart:hover {\n",
              "    background-color: var(--hover-bg-color);\n",
              "    box-shadow: 0 1px 2px rgba(60, 64, 67, 0.3), 0 1px 3px 1px rgba(60, 64, 67, 0.15);\n",
              "    fill: var(--button-hover-fill-color);\n",
              "  }\n",
              "\n",
              "  .colab-df-quickchart-complete:disabled,\n",
              "  .colab-df-quickchart-complete:disabled:hover {\n",
              "    background-color: var(--disabled-bg-color);\n",
              "    fill: var(--disabled-fill-color);\n",
              "    box-shadow: none;\n",
              "  }\n",
              "\n",
              "  .colab-df-spinner {\n",
              "    border: 2px solid var(--fill-color);\n",
              "    border-color: transparent;\n",
              "    border-bottom-color: var(--fill-color);\n",
              "    animation:\n",
              "      spin 1s steps(1) infinite;\n",
              "  }\n",
              "\n",
              "  @keyframes spin {\n",
              "    0% {\n",
              "      border-color: transparent;\n",
              "      border-bottom-color: var(--fill-color);\n",
              "      border-left-color: var(--fill-color);\n",
              "    }\n",
              "    20% {\n",
              "      border-color: transparent;\n",
              "      border-left-color: var(--fill-color);\n",
              "      border-top-color: var(--fill-color);\n",
              "    }\n",
              "    30% {\n",
              "      border-color: transparent;\n",
              "      border-left-color: var(--fill-color);\n",
              "      border-top-color: var(--fill-color);\n",
              "      border-right-color: var(--fill-color);\n",
              "    }\n",
              "    40% {\n",
              "      border-color: transparent;\n",
              "      border-right-color: var(--fill-color);\n",
              "      border-top-color: var(--fill-color);\n",
              "    }\n",
              "    60% {\n",
              "      border-color: transparent;\n",
              "      border-right-color: var(--fill-color);\n",
              "    }\n",
              "    80% {\n",
              "      border-color: transparent;\n",
              "      border-right-color: var(--fill-color);\n",
              "      border-bottom-color: var(--fill-color);\n",
              "    }\n",
              "    90% {\n",
              "      border-color: transparent;\n",
              "      border-bottom-color: var(--fill-color);\n",
              "    }\n",
              "  }\n",
              "</style>\n",
              "\n",
              "  <script>\n",
              "    async function quickchart(key) {\n",
              "      const quickchartButtonEl =\n",
              "        document.querySelector('#' + key + ' button');\n",
              "      quickchartButtonEl.disabled = true;  // To prevent multiple clicks.\n",
              "      quickchartButtonEl.classList.add('colab-df-spinner');\n",
              "      try {\n",
              "        const charts = await google.colab.kernel.invokeFunction(\n",
              "            'suggestCharts', [key], {});\n",
              "      } catch (error) {\n",
              "        console.error('Error during call to suggestCharts:', error);\n",
              "      }\n",
              "      quickchartButtonEl.classList.remove('colab-df-spinner');\n",
              "      quickchartButtonEl.classList.add('colab-df-quickchart-complete');\n",
              "    }\n",
              "    (() => {\n",
              "      let quickchartButtonEl =\n",
              "        document.querySelector('#df-c61aac9c-9b94-4d25-8be4-cb1815a66ee2 button');\n",
              "      quickchartButtonEl.style.display =\n",
              "        google.colab.kernel.accessAllowed ? 'block' : 'none';\n",
              "    })();\n",
              "  </script>\n",
              "</div>\n",
              "\n",
              "    </div>\n",
              "  </div>\n"
            ],
            "application/vnd.google.colaboratory.intrinsic+json": {
              "type": "dataframe",
              "variable_name": "reviews_hugging",
              "summary": "{\n  \"name\": \"reviews_hugging\",\n  \"rows\": 34620,\n  \"fields\": [\n    {\n      \"column\": \"text\",\n      \"properties\": {\n        \"dtype\": \"string\",\n        \"num_unique_values\": 34609,\n        \"samples\": [\n          \"(Great reader) Works well great outdoors in the sun. Better than iPad for books.\",\n          \"(Wonderful E Reader) This is a fantastic EReader - very light and hand hold is just right. Love the backlight feature for reading at night without needing a light on.\",\n          \"(Excellent fire tab) I really didnt expect how its going to work.but its very good.gifted to my friend\"\n        ],\n        \"semantic_type\": \"\",\n        \"description\": \"\"\n      }\n    },\n    {\n      \"column\": \"rating\",\n      \"properties\": {\n        \"dtype\": \"category\",\n        \"num_unique_values\": 3,\n        \"samples\": [\n          \"positive\",\n          \"neutral\",\n          \"negative\"\n        ],\n        \"semantic_type\": \"\",\n        \"description\": \"\"\n      }\n    }\n  ]\n}"
            }
          },
          "metadata": {},
          "execution_count": 5
        }
      ]
    },
    {
      "cell_type": "code",
      "source": [
        "# from transformers import AutoTokenizer, AutoModelForSequenceClassification\n",
        "# import torch\n",
        "# from sklearn.metrics import accuracy_score, classification_report\n",
        "# from sklearn.preprocessing import LabelEncoder\n",
        "# from sklearn.model_selection import train_test_split\n",
        "\n",
        "# # Convert text labels to numerical values\n",
        "# le = LabelEncoder()\n",
        "# reviews_hugging['encoded_rating'] = le.fit_transform(reviews_hugging['rating'])\n",
        "\n",
        "# # Split the dataset\n",
        "# X_train, X_test, y_train, y_test = train_test_split(\n",
        "#     reviews_hugging['text'],\n",
        "#     reviews_hugging['encoded_rating'],\n",
        "#     test_size=0.2,\n",
        "#     random_state=42\n",
        "# )\n",
        "\n",
        "# # Step 1: Load the pre-trained model and tokenizer\n",
        "# model_name = \"bert-base-uncased\"\n",
        "# tokenizer = AutoTokenizer.from_pretrained(model_name)  # Changed to AutoTokenizer\n",
        "# model = AutoModelForSequenceClassification.from_pretrained(\n",
        "#     model_name,\n",
        "#     num_labels=3,\n",
        "#     use_cache=False\n",
        "# )\n",
        "\n",
        "# # Step 2: Batch processing with memory management\n",
        "# model.eval()  # Should be called BEFORE inference\n",
        "# batch_size = 32\n",
        "# predictions = []\n",
        "\n",
        "# for i in range(0, len(X_test), batch_size):\n",
        "#     batch_texts = X_test.iloc[i:i+batch_size].tolist()  # Use iloc for Series\n",
        "\n",
        "#     inputs = tokenizer(\n",
        "#         batch_texts,\n",
        "#         padding=True,\n",
        "#         truncation=True,\n",
        "#         max_length=128,\n",
        "#         return_tensors=\"pt\"\n",
        "#     )\n",
        "\n",
        "#     with torch.no_grad():\n",
        "#         outputs = model(**inputs)\n",
        "\n",
        "#     batch_preds = torch.argmax(outputs.logits, dim=1).cpu().numpy()\n",
        "#     predictions.extend(batch_preds)\n",
        "#     print(i)\n",
        "\n",
        "#     # Memory cleanup\n",
        "#     del inputs, outputs\n",
        "#     if torch.cuda.is_available():\n",
        "#         torch.cuda.empty_cache()\n",
        "\n",
        "# # Step 3: Convert predictions to numpy array\n",
        "# predictions = np.array(predictions)\n",
        "\n",
        "# # Step 4: Evaluate\n",
        "# print(f\"Base Model Accuracy: {accuracy_score(y_test, predictions):.2f}\")\n",
        "# print(classification_report(\n",
        "#     y_test,\n",
        "#     predictions,\n",
        "#     target_names=le.classes_\n",
        "# ))"
      ],
      "metadata": {
        "id": "R0xMVHdDLP9h"
      },
      "execution_count": null,
      "outputs": []
    },
    {
      "cell_type": "code",
      "source": [
        "# sentiment_analysis.py\n",
        "import pandas as pd\n",
        "import numpy as np\n",
        "from sklearn.model_selection import train_test_split\n",
        "from sklearn.preprocessing import LabelEncoder\n",
        "from datasets import Dataset\n",
        "from transformers import (\n",
        "    AutoTokenizer,\n",
        "    AutoModelForSequenceClassification,\n",
        "    TrainingArguments,\n",
        "    Trainer\n",
        ")\n",
        "from sklearn.metrics import accuracy_score, f1_score, confusion_matrix, classification_report\n",
        "import torch"
      ],
      "metadata": {
        "id": "N1Wb0sv8ImZp"
      },
      "execution_count": null,
      "outputs": []
    },
    {
      "cell_type": "code",
      "source": [
        "le = LabelEncoder()\n",
        "reviews_hugging['encoded_label'] = le.fit_transform(reviews_hugging['label'])\n",
        "\n",
        "# Split data\n",
        "train_df, test_df = train_test_split(reviews_hugging, test_size=0.2, random_state=42)\n",
        "train_df, val_df = train_test_split(train_df, test_size=0.2, random_state=42)\n",
        "\n",
        "# Convert to HuggingFace datasets\n",
        "train_ds = Dataset.from_pandas(train_df[['text', 'encoded_label']])\n",
        "val_ds = Dataset.from_pandas(val_df[['text', 'encoded_label']])\n",
        "test_ds = Dataset.from_pandas(test_df[['text', 'encoded_label']])"
      ],
      "metadata": {
        "id": "l-fpKC8tIq7B"
      },
      "execution_count": null,
      "outputs": []
    },
    {
      "cell_type": "code",
      "source": [
        "# [3. Model & Tokenizer] -----------------------------------------------\n",
        "model_name = \"bert-base-uncased\"  # For English reviews_hugging\n",
        "tokenizer = AutoTokenizer.from_pretrained(model_name)\n",
        "model = AutoModelForSequenceClassification.from_pretrained(\n",
        "    model_name,\n",
        "    num_labels=3,\n",
        "    id2label={i: label for i, label in enumerate(le.classes_)}\n",
        ")\n",
        "\n",
        "# [4. Tokenization] ----------------------------------------------------\n",
        "def tokenize_fn(batch):\n",
        "    return tokenizer(\n",
        "        batch[\"text\"],\n",
        "        padding=\"max_length\",\n",
        "        truncation=True,\n",
        "        max_length=256\n",
        "    )\n",
        "\n",
        "train_ds = train_ds.map(tokenize_fn, batched=True)\n",
        "val_ds = val_ds.map(tokenize_fn, batched=True)\n",
        "test_ds = test_ds.map(tokenize_fn, batched=True)\n",
        "\n",
        "# Set format for PyTorch\n",
        "train_ds.set_format(type=\"torch\", columns=[\"input_ids\", \"attention_mask\", \"encoded_label\"])\n",
        "val_ds.set_format(type=\"torch\", columns=[\"input_ids\", \"attention_mask\", \"encoded_label\"])\n",
        "test_ds.set_format(type=\"torch\", columns=[\"input_ids\", \"attention_mask\", \"encoded_label\"])\n"
      ],
      "metadata": {
        "id": "bwK2u954JnyB"
      },
      "execution_count": null,
      "outputs": []
    },
    {
      "cell_type": "code",
      "source": [
        "# [5. Training Setup] --------------------------------------------------\n",
        "def compute_metrics(pred):\n",
        "    labels = pred.label_ids\n",
        "    preds = pred.predictions.argmax(-1)\n",
        "    return {\n",
        "        \"accuracy\": accuracy_score(labels, preds),\n",
        "        \"f1_macro\": f1_score(labels, preds, average=\"macro\")\n",
        "    }\n",
        "\n",
        "training_args = TrainingArguments(\n",
        "    output_dir=\"./results\",\n",
        "    num_train_epochs=5,\n",
        "    learning_rate=2e-5,\n",
        "    per_device_train_batch_size=16,  # Reduced for stability\n",
        "    per_device_eval_batch_size=32,\n",
        "    evaluation_strategy=\"epoch\",\n",
        "    save_strategy=\"epoch\",\n",
        "    load_best_model_at_end=True,\n",
        "    metric_for_best_model=\"f1_macro\",\n",
        "    fp16=True,  # Enable mixed precision\n",
        "    report_to=\"none\"\n",
        ")"
      ],
      "metadata": {
        "id": "kIXQGqYNJ4mn"
      },
      "execution_count": null,
      "outputs": []
    },
    {
      "cell_type": "code",
      "source": [
        "# [6. Training] --------------------------------------------------------\n",
        "trainer = Trainer(\n",
        "    model=model,\n",
        "    args=training_args,\n",
        "    train_dataset=train_ds,\n",
        "    eval_dataset=val_ds,\n",
        "    compute_metrics=compute_metrics\n",
        ")\n",
        "\n",
        "# Start training with crash protection\n",
        "try:\n",
        "    trainer.train()\n",
        "except KeyboardInterrupt:\n",
        "    print(\"\\nTraining interrupted! Saving model...\")\n",
        "    trainer.save_model(\"interrupted_model\")\n"
      ],
      "metadata": {
        "id": "aHJpJIwoJ8wC"
      },
      "execution_count": null,
      "outputs": []
    },
    {
      "cell_type": "code",
      "source": [
        "# Final test evaluation\n",
        "test_results = trainer.evaluate(test_ds)\n",
        "print(\"\\nTest Set Performance:\")\n",
        "print(f\"Accuracy: {test_results['eval_accuracy']:.4f}\")\n",
        "print(f\"Macro F1: {test_results['eval_f1_macro']:.4f}\")\n",
        "\n",
        "# Generate predictions\n",
        "preds = trainer.predict(test_ds)\n",
        "y_true = preds.label_ids\n",
        "y_pred = np.argmax(preds.predictions, axis=1)\n",
        "\n",
        "# Detailed report\n",
        "print(\"\\nClassification Report:\")\n",
        "print(classification_report(\n",
        "    y_true,\n",
        "    y_pred,\n",
        "    target_names=le.classes_\n",
        "))\n",
        "\n",
        "# Confusion matrix\n",
        "cm = confusion_matrix(y_true, y_pred)\n",
        "sns.heatmap(cm, annot=True, fmt=\"d\", cmap=\"Blues\",\n",
        "           xticklabels=le.classes_,\n",
        "           yticklabels=le.classes_)\n",
        "plt.xlabel(\"Predicted\")\n",
        "plt.ylabel(\"True\")\n",
        "plt.title(\"Confusion Matrix\")\n",
        "plt.show()"
      ],
      "metadata": {
        "id": "yVKBzsLhKDJc"
      },
      "execution_count": null,
      "outputs": []
    },
    {
      "cell_type": "code",
      "source": [
        "# Save model and predictions\n",
        "model.save_pretrained(\"sentiment_model\")\n",
        "tokenizer.save_pretrained(\"sentiment_model\")\n",
        "\n",
        "pd.DataFrame({\n",
        "    \"text\": test_df[\"text\"],\n",
        "    \"true_label\": test_df[\"label\"],\n",
        "    \"pred_label\": le.inverse_transform(y_pred)\n",
        "}).to_csv(\"predictions.csv\", index=False)"
      ],
      "metadata": {
        "id": "ieCKYe3aKMB0"
      },
      "execution_count": null,
      "outputs": []
    }
  ],
  "metadata": {
    "kernelspec": {
      "display_name": "Python 3",
      "name": "python3"
    },
    "language_info": {
      "codemirror_mode": {
        "name": "ipython",
        "version": 3
      },
      "file_extension": ".py",
      "mimetype": "text/x-python",
      "name": "python",
      "nbconvert_exporter": "python",
      "pygments_lexer": "ipython3",
      "version": "3.12.7"
    },
    "colab": {
      "provenance": [],
      "gpuType": "T4"
    },
    "accelerator": "GPU"
  },
  "nbformat": 4,
  "nbformat_minor": 0
}